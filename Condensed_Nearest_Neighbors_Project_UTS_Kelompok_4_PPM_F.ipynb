{
  "nbformat": 4,
  "nbformat_minor": 0,
  "metadata": {
    "colab": {
      "name": "Condensed Nearest Neighbors_Project UTS_Kelompok 4 PPM-F",
      "provenance": [],
      "collapsed_sections": [],
      "include_colab_link": true
    },
    "kernelspec": {
      "display_name": "Python 3",
      "name": "python3"
    },
    "language_info": {
      "name": "python"
    }
  },
  "cells": [
    {
      "cell_type": "markdown",
      "metadata": {
        "id": "view-in-github",
        "colab_type": "text"
      },
      "source": [
        "<a href=\"https://colab.research.google.com/github/ayaazzara/ProjectIntroductiontoMachineLearning/blob/main/Condensed_Nearest_Neighbors_Project_UTS_Kelompok_4_PPM_F.ipynb\" target=\"_parent\"><img src=\"https://colab.research.google.com/assets/colab-badge.svg\" alt=\"Open In Colab\"/></a>"
      ]
    },
    {
      "cell_type": "code",
      "metadata": {
        "colab": {
          "resources": {
            "http://localhost:8080/nbextensions/google.colab/files.js": {
              "data": "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",
              "ok": true,
              "headers": [
                [
                  "content-type",
                  "application/javascript"
                ]
              ],
              "status": 200,
              "status_text": ""
            }
          },
          "base_uri": "https://localhost:8080/",
          "height": 73
        },
        "id": "H3yN-8oEDxng",
        "outputId": "221728c3-6837-4a59-8473-c65c503c1b26"
      },
      "source": [
        "from google.colab import files\n",
        "dataset = files.upload()"
      ],
      "execution_count": null,
      "outputs": [
        {
          "output_type": "display_data",
          "data": {
            "text/html": [
              "\n",
              "     <input type=\"file\" id=\"files-2144d733-5bec-4c25-a4b3-8036bebc8776\" name=\"files[]\" multiple disabled\n",
              "        style=\"border:none\" />\n",
              "     <output id=\"result-2144d733-5bec-4c25-a4b3-8036bebc8776\">\n",
              "      Upload widget is only available when the cell has been executed in the\n",
              "      current browser session. Please rerun this cell to enable.\n",
              "      </output>\n",
              "      <script src=\"/nbextensions/google.colab/files.js\"></script> "
            ],
            "text/plain": [
              "<IPython.core.display.HTML object>"
            ]
          },
          "metadata": {
            "tags": []
          }
        },
        {
          "output_type": "stream",
          "text": [
            "Saving lama.csv to lama.csv\n"
          ],
          "name": "stdout"
        }
      ]
    },
    {
      "cell_type": "code",
      "metadata": {
        "id": "T7JtRY70FMzo"
      },
      "source": [
        "import pandas as pd \n",
        "import numpy as np \n",
        "\n",
        "data = pd.read_csv('lama.csv',delimiter=';')"
      ],
      "execution_count": null,
      "outputs": []
    },
    {
      "cell_type": "code",
      "metadata": {
        "colab": {
          "base_uri": "https://localhost:8080/",
          "height": 194
        },
        "id": "GfhA7JQWFVcG",
        "outputId": "b7941240-6f60-4b78-a173-4e98503a26d6"
      },
      "source": [
        "data.head()"
      ],
      "execution_count": null,
      "outputs": [
        {
          "output_type": "execute_result",
          "data": {
            "text/html": [
              "<div>\n",
              "<style scoped>\n",
              "    .dataframe tbody tr th:only-of-type {\n",
              "        vertical-align: middle;\n",
              "    }\n",
              "\n",
              "    .dataframe tbody tr th {\n",
              "        vertical-align: top;\n",
              "    }\n",
              "\n",
              "    .dataframe thead th {\n",
              "        text-align: right;\n",
              "    }\n",
              "</style>\n",
              "<table border=\"1\" class=\"dataframe\">\n",
              "  <thead>\n",
              "    <tr style=\"text-align: right;\">\n",
              "      <th></th>\n",
              "      <th>Index</th>\n",
              "      <th>f1</th>\n",
              "      <th>F2</th>\n",
              "      <th>F3</th>\n",
              "      <th>F4</th>\n",
              "      <th>F5</th>\n",
              "      <th>F6</th>\n",
              "      <th>F7</th>\n",
              "      <th>F8</th>\n",
              "      <th>F9</th>\n",
              "      <th>F10</th>\n",
              "      <th>F11</th>\n",
              "      <th>F12</th>\n",
              "      <th>F13</th>\n",
              "      <th>F14</th>\n",
              "      <th>Label</th>\n",
              "    </tr>\n",
              "  </thead>\n",
              "  <tbody>\n",
              "    <tr>\n",
              "      <th>0</th>\n",
              "      <td>0</td>\n",
              "      <td>0.736626</td>\n",
              "      <td>0.597937</td>\n",
              "      <td>1.535647</td>\n",
              "      <td>0.781507</td>\n",
              "      <td>4.062768</td>\n",
              "      <td>1.828305</td>\n",
              "      <td>0.913014</td>\n",
              "      <td>0.842583</td>\n",
              "      <td>2.0085</td>\n",
              "      <td>4.7122</td>\n",
              "      <td>6.6631</td>\n",
              "      <td>12.4585</td>\n",
              "      <td>20.4063</td>\n",
              "      <td>30.8238</td>\n",
              "      <td>1</td>\n",
              "    </tr>\n",
              "    <tr>\n",
              "      <th>1</th>\n",
              "      <td>1</td>\n",
              "      <td>0.694672</td>\n",
              "      <td>0.516291</td>\n",
              "      <td>1.806776</td>\n",
              "      <td>0.699669</td>\n",
              "      <td>4.372226</td>\n",
              "      <td>1.805135</td>\n",
              "      <td>0.860493</td>\n",
              "      <td>0.823922</td>\n",
              "      <td>2.0945</td>\n",
              "      <td>5.0521</td>\n",
              "      <td>6.7158</td>\n",
              "      <td>14.1530</td>\n",
              "      <td>25.4531</td>\n",
              "      <td>41.2382</td>\n",
              "      <td>1</td>\n",
              "    </tr>\n",
              "    <tr>\n",
              "      <th>2</th>\n",
              "      <td>2</td>\n",
              "      <td>0.716667</td>\n",
              "      <td>0.547966</td>\n",
              "      <td>1.690245</td>\n",
              "      <td>0.734749</td>\n",
              "      <td>4.243978</td>\n",
              "      <td>1.816461</td>\n",
              "      <td>0.892896</td>\n",
              "      <td>0.826502</td>\n",
              "      <td>2.1296</td>\n",
              "      <td>5.0518</td>\n",
              "      <td>6.8320</td>\n",
              "      <td>13.4940</td>\n",
              "      <td>24.6055</td>\n",
              "      <td>40.1646</td>\n",
              "      <td>1</td>\n",
              "    </tr>\n",
              "    <tr>\n",
              "      <th>3</th>\n",
              "      <td>3</td>\n",
              "      <td>0.673077</td>\n",
              "      <td>0.548412</td>\n",
              "      <td>1.763861</td>\n",
              "      <td>0.697036</td>\n",
              "      <td>4.242250</td>\n",
              "      <td>1.767403</td>\n",
              "      <td>0.875309</td>\n",
              "      <td>0.847430</td>\n",
              "      <td>1.9192</td>\n",
              "      <td>4.7676</td>\n",
              "      <td>7.2061</td>\n",
              "      <td>15.1770</td>\n",
              "      <td>24.5586</td>\n",
              "      <td>39.6899</td>\n",
              "      <td>1</td>\n",
              "    </tr>\n",
              "    <tr>\n",
              "      <th>4</th>\n",
              "      <td>4</td>\n",
              "      <td>0.728216</td>\n",
              "      <td>0.548810</td>\n",
              "      <td>1.674075</td>\n",
              "      <td>0.744214</td>\n",
              "      <td>4.240712</td>\n",
              "      <td>1.826158</td>\n",
              "      <td>0.894028</td>\n",
              "      <td>0.822953</td>\n",
              "      <td>2.2200</td>\n",
              "      <td>5.1391</td>\n",
              "      <td>7.2910</td>\n",
              "      <td>14.2070</td>\n",
              "      <td>25.6758</td>\n",
              "      <td>44.7681</td>\n",
              "      <td>1</td>\n",
              "    </tr>\n",
              "  </tbody>\n",
              "</table>\n",
              "</div>"
            ],
            "text/plain": [
              "   Index        f1        F2        F3  ...      F12      F13      F14  Label\n",
              "0      0  0.736626  0.597937  1.535647  ...  12.4585  20.4063  30.8238      1\n",
              "1      1  0.694672  0.516291  1.806776  ...  14.1530  25.4531  41.2382      1\n",
              "2      2  0.716667  0.547966  1.690245  ...  13.4940  24.6055  40.1646      1\n",
              "3      3  0.673077  0.548412  1.763861  ...  15.1770  24.5586  39.6899      1\n",
              "4      4  0.728216  0.548810  1.674075  ...  14.2070  25.6758  44.7681      1\n",
              "\n",
              "[5 rows x 16 columns]"
            ]
          },
          "metadata": {
            "tags": []
          },
          "execution_count": 3
        }
      ]
    },
    {
      "cell_type": "code",
      "metadata": {
        "id": "Ir3gSPmtP-qc"
      },
      "source": [
        "data = data.drop('Index',1) "
      ],
      "execution_count": null,
      "outputs": []
    },
    {
      "cell_type": "code",
      "metadata": {
        "colab": {
          "base_uri": "https://localhost:8080/",
          "height": 194
        },
        "id": "1jnl6253daf7",
        "outputId": "906ceeb4-25ae-44be-ca20-e2f9a714443e"
      },
      "source": [
        "data.head()"
      ],
      "execution_count": null,
      "outputs": [
        {
          "output_type": "execute_result",
          "data": {
            "text/html": [
              "<div>\n",
              "<style scoped>\n",
              "    .dataframe tbody tr th:only-of-type {\n",
              "        vertical-align: middle;\n",
              "    }\n",
              "\n",
              "    .dataframe tbody tr th {\n",
              "        vertical-align: top;\n",
              "    }\n",
              "\n",
              "    .dataframe thead th {\n",
              "        text-align: right;\n",
              "    }\n",
              "</style>\n",
              "<table border=\"1\" class=\"dataframe\">\n",
              "  <thead>\n",
              "    <tr style=\"text-align: right;\">\n",
              "      <th></th>\n",
              "      <th>f1</th>\n",
              "      <th>F2</th>\n",
              "      <th>F3</th>\n",
              "      <th>F4</th>\n",
              "      <th>F5</th>\n",
              "      <th>F6</th>\n",
              "      <th>F7</th>\n",
              "      <th>F8</th>\n",
              "      <th>F9</th>\n",
              "      <th>F10</th>\n",
              "      <th>F11</th>\n",
              "      <th>F12</th>\n",
              "      <th>F13</th>\n",
              "      <th>F14</th>\n",
              "      <th>Label</th>\n",
              "    </tr>\n",
              "  </thead>\n",
              "  <tbody>\n",
              "    <tr>\n",
              "      <th>0</th>\n",
              "      <td>0.736626</td>\n",
              "      <td>0.597937</td>\n",
              "      <td>1.535647</td>\n",
              "      <td>0.781507</td>\n",
              "      <td>4.062768</td>\n",
              "      <td>1.828305</td>\n",
              "      <td>0.913014</td>\n",
              "      <td>0.842583</td>\n",
              "      <td>2.0085</td>\n",
              "      <td>4.7122</td>\n",
              "      <td>6.6631</td>\n",
              "      <td>12.4585</td>\n",
              "      <td>20.4063</td>\n",
              "      <td>30.8238</td>\n",
              "      <td>1</td>\n",
              "    </tr>\n",
              "    <tr>\n",
              "      <th>1</th>\n",
              "      <td>0.694672</td>\n",
              "      <td>0.516291</td>\n",
              "      <td>1.806776</td>\n",
              "      <td>0.699669</td>\n",
              "      <td>4.372226</td>\n",
              "      <td>1.805135</td>\n",
              "      <td>0.860493</td>\n",
              "      <td>0.823922</td>\n",
              "      <td>2.0945</td>\n",
              "      <td>5.0521</td>\n",
              "      <td>6.7158</td>\n",
              "      <td>14.1530</td>\n",
              "      <td>25.4531</td>\n",
              "      <td>41.2382</td>\n",
              "      <td>1</td>\n",
              "    </tr>\n",
              "    <tr>\n",
              "      <th>2</th>\n",
              "      <td>0.716667</td>\n",
              "      <td>0.547966</td>\n",
              "      <td>1.690245</td>\n",
              "      <td>0.734749</td>\n",
              "      <td>4.243978</td>\n",
              "      <td>1.816461</td>\n",
              "      <td>0.892896</td>\n",
              "      <td>0.826502</td>\n",
              "      <td>2.1296</td>\n",
              "      <td>5.0518</td>\n",
              "      <td>6.8320</td>\n",
              "      <td>13.4940</td>\n",
              "      <td>24.6055</td>\n",
              "      <td>40.1646</td>\n",
              "      <td>1</td>\n",
              "    </tr>\n",
              "    <tr>\n",
              "      <th>3</th>\n",
              "      <td>0.673077</td>\n",
              "      <td>0.548412</td>\n",
              "      <td>1.763861</td>\n",
              "      <td>0.697036</td>\n",
              "      <td>4.242250</td>\n",
              "      <td>1.767403</td>\n",
              "      <td>0.875309</td>\n",
              "      <td>0.847430</td>\n",
              "      <td>1.9192</td>\n",
              "      <td>4.7676</td>\n",
              "      <td>7.2061</td>\n",
              "      <td>15.1770</td>\n",
              "      <td>24.5586</td>\n",
              "      <td>39.6899</td>\n",
              "      <td>1</td>\n",
              "    </tr>\n",
              "    <tr>\n",
              "      <th>4</th>\n",
              "      <td>0.728216</td>\n",
              "      <td>0.548810</td>\n",
              "      <td>1.674075</td>\n",
              "      <td>0.744214</td>\n",
              "      <td>4.240712</td>\n",
              "      <td>1.826158</td>\n",
              "      <td>0.894028</td>\n",
              "      <td>0.822953</td>\n",
              "      <td>2.2200</td>\n",
              "      <td>5.1391</td>\n",
              "      <td>7.2910</td>\n",
              "      <td>14.2070</td>\n",
              "      <td>25.6758</td>\n",
              "      <td>44.7681</td>\n",
              "      <td>1</td>\n",
              "    </tr>\n",
              "  </tbody>\n",
              "</table>\n",
              "</div>"
            ],
            "text/plain": [
              "         f1        F2        F3        F4  ...      F12      F13      F14  Label\n",
              "0  0.736626  0.597937  1.535647  0.781507  ...  12.4585  20.4063  30.8238      1\n",
              "1  0.694672  0.516291  1.806776  0.699669  ...  14.1530  25.4531  41.2382      1\n",
              "2  0.716667  0.547966  1.690245  0.734749  ...  13.4940  24.6055  40.1646      1\n",
              "3  0.673077  0.548412  1.763861  0.697036  ...  15.1770  24.5586  39.6899      1\n",
              "4  0.728216  0.548810  1.674075  0.744214  ...  14.2070  25.6758  44.7681      1\n",
              "\n",
              "[5 rows x 15 columns]"
            ]
          },
          "metadata": {
            "tags": []
          },
          "execution_count": 7
        }
      ]
    },
    {
      "cell_type": "code",
      "metadata": {
        "colab": {
          "base_uri": "https://localhost:8080/",
          "height": 282
        },
        "id": "YPN4kFvSQ41_",
        "outputId": "2b734104-b608-4c5d-e489-a7869e7187c2"
      },
      "source": [
        "data.describe(include='all')"
      ],
      "execution_count": null,
      "outputs": [
        {
          "output_type": "execute_result",
          "data": {
            "text/html": [
              "<div>\n",
              "<style scoped>\n",
              "    .dataframe tbody tr th:only-of-type {\n",
              "        vertical-align: middle;\n",
              "    }\n",
              "\n",
              "    .dataframe tbody tr th {\n",
              "        vertical-align: top;\n",
              "    }\n",
              "\n",
              "    .dataframe thead th {\n",
              "        text-align: right;\n",
              "    }\n",
              "</style>\n",
              "<table border=\"1\" class=\"dataframe\">\n",
              "  <thead>\n",
              "    <tr style=\"text-align: right;\">\n",
              "      <th></th>\n",
              "      <th>f1</th>\n",
              "      <th>F2</th>\n",
              "      <th>F3</th>\n",
              "      <th>F4</th>\n",
              "      <th>F5</th>\n",
              "      <th>F6</th>\n",
              "      <th>F7</th>\n",
              "      <th>F8</th>\n",
              "      <th>F9</th>\n",
              "      <th>F10</th>\n",
              "      <th>F11</th>\n",
              "      <th>F12</th>\n",
              "      <th>F13</th>\n",
              "      <th>F14</th>\n",
              "      <th>Label</th>\n",
              "    </tr>\n",
              "  </thead>\n",
              "  <tbody>\n",
              "    <tr>\n",
              "      <th>count</th>\n",
              "      <td>91.000000</td>\n",
              "      <td>91.000000</td>\n",
              "      <td>91.000000</td>\n",
              "      <td>91.000000</td>\n",
              "      <td>91.000000</td>\n",
              "      <td>91.000000</td>\n",
              "      <td>91.000000</td>\n",
              "      <td>91.000000</td>\n",
              "      <td>91.000000</td>\n",
              "      <td>91.000000</td>\n",
              "      <td>91.000000</td>\n",
              "      <td>91.000000</td>\n",
              "      <td>91.000000</td>\n",
              "      <td>91.000000</td>\n",
              "      <td>91.000000</td>\n",
              "    </tr>\n",
              "    <tr>\n",
              "      <th>mean</th>\n",
              "      <td>0.801144</td>\n",
              "      <td>0.528114</td>\n",
              "      <td>1.599129</td>\n",
              "      <td>0.799486</td>\n",
              "      <td>4.345408</td>\n",
              "      <td>1.924899</td>\n",
              "      <td>0.893682</td>\n",
              "      <td>0.802048</td>\n",
              "      <td>2.031075</td>\n",
              "      <td>4.603964</td>\n",
              "      <td>5.629309</td>\n",
              "      <td>11.214201</td>\n",
              "      <td>19.134376</td>\n",
              "      <td>32.019782</td>\n",
              "      <td>2.131868</td>\n",
              "    </tr>\n",
              "    <tr>\n",
              "      <th>std</th>\n",
              "      <td>0.088447</td>\n",
              "      <td>0.060964</td>\n",
              "      <td>0.105854</td>\n",
              "      <td>0.062509</td>\n",
              "      <td>0.262586</td>\n",
              "      <td>0.110104</td>\n",
              "      <td>0.026149</td>\n",
              "      <td>0.040450</td>\n",
              "      <td>0.419925</td>\n",
              "      <td>0.812382</td>\n",
              "      <td>1.026596</td>\n",
              "      <td>1.628785</td>\n",
              "      <td>3.474921</td>\n",
              "      <td>4.686773</td>\n",
              "      <td>0.805658</td>\n",
              "    </tr>\n",
              "    <tr>\n",
              "      <th>min</th>\n",
              "      <td>0.545259</td>\n",
              "      <td>0.376311</td>\n",
              "      <td>1.388612</td>\n",
              "      <td>0.623965</td>\n",
              "      <td>3.843622</td>\n",
              "      <td>1.693182</td>\n",
              "      <td>0.800360</td>\n",
              "      <td>0.697402</td>\n",
              "      <td>1.239000</td>\n",
              "      <td>2.301500</td>\n",
              "      <td>3.374000</td>\n",
              "      <td>7.064800</td>\n",
              "      <td>10.996100</td>\n",
              "      <td>22.261100</td>\n",
              "      <td>1.000000</td>\n",
              "    </tr>\n",
              "    <tr>\n",
              "      <th>25%</th>\n",
              "      <td>0.736313</td>\n",
              "      <td>0.494571</td>\n",
              "      <td>1.512613</td>\n",
              "      <td>0.756900</td>\n",
              "      <td>4.194137</td>\n",
              "      <td>1.835048</td>\n",
              "      <td>0.883068</td>\n",
              "      <td>0.783233</td>\n",
              "      <td>1.730600</td>\n",
              "      <td>4.318100</td>\n",
              "      <td>4.758800</td>\n",
              "      <td>10.350200</td>\n",
              "      <td>16.539100</td>\n",
              "      <td>28.797650</td>\n",
              "      <td>2.000000</td>\n",
              "    </tr>\n",
              "    <tr>\n",
              "      <th>50%</th>\n",
              "      <td>0.805930</td>\n",
              "      <td>0.524788</td>\n",
              "      <td>1.585444</td>\n",
              "      <td>0.792849</td>\n",
              "      <td>4.336685</td>\n",
              "      <td>1.924791</td>\n",
              "      <td>0.895081</td>\n",
              "      <td>0.796913</td>\n",
              "      <td>1.990200</td>\n",
              "      <td>4.779000</td>\n",
              "      <td>5.637700</td>\n",
              "      <td>11.261500</td>\n",
              "      <td>19.214800</td>\n",
              "      <td>31.632200</td>\n",
              "      <td>2.000000</td>\n",
              "    </tr>\n",
              "    <tr>\n",
              "      <th>75%</th>\n",
              "      <td>0.868840</td>\n",
              "      <td>0.561067</td>\n",
              "      <td>1.664582</td>\n",
              "      <td>0.853497</td>\n",
              "      <td>4.467204</td>\n",
              "      <td>1.984174</td>\n",
              "      <td>0.909719</td>\n",
              "      <td>0.831337</td>\n",
              "      <td>2.283700</td>\n",
              "      <td>5.048050</td>\n",
              "      <td>6.563000</td>\n",
              "      <td>12.391050</td>\n",
              "      <td>21.427700</td>\n",
              "      <td>34.916700</td>\n",
              "      <td>2.000000</td>\n",
              "    </tr>\n",
              "    <tr>\n",
              "      <th>max</th>\n",
              "      <td>0.960714</td>\n",
              "      <td>0.668065</td>\n",
              "      <td>1.895543</td>\n",
              "      <td>0.915760</td>\n",
              "      <td>5.121258</td>\n",
              "      <td>2.221936</td>\n",
              "      <td>0.949919</td>\n",
              "      <td>0.901396</td>\n",
              "      <td>3.231700</td>\n",
              "      <td>6.438400</td>\n",
              "      <td>7.871100</td>\n",
              "      <td>15.177000</td>\n",
              "      <td>26.480500</td>\n",
              "      <td>45.448300</td>\n",
              "      <td>4.000000</td>\n",
              "    </tr>\n",
              "  </tbody>\n",
              "</table>\n",
              "</div>"
            ],
            "text/plain": [
              "              f1         F2         F3  ...        F13        F14      Label\n",
              "count  91.000000  91.000000  91.000000  ...  91.000000  91.000000  91.000000\n",
              "mean    0.801144   0.528114   1.599129  ...  19.134376  32.019782   2.131868\n",
              "std     0.088447   0.060964   0.105854  ...   3.474921   4.686773   0.805658\n",
              "min     0.545259   0.376311   1.388612  ...  10.996100  22.261100   1.000000\n",
              "25%     0.736313   0.494571   1.512613  ...  16.539100  28.797650   2.000000\n",
              "50%     0.805930   0.524788   1.585444  ...  19.214800  31.632200   2.000000\n",
              "75%     0.868840   0.561067   1.664582  ...  21.427700  34.916700   2.000000\n",
              "max     0.960714   0.668065   1.895543  ...  26.480500  45.448300   4.000000\n",
              "\n",
              "[8 rows x 15 columns]"
            ]
          },
          "metadata": {
            "tags": []
          },
          "execution_count": 8
        }
      ]
    },
    {
      "cell_type": "code",
      "metadata": {
        "colab": {
          "base_uri": "https://localhost:8080/",
          "height": 1000
        },
        "id": "pVMr11hvR1qE",
        "outputId": "5d559218-11fd-49dc-9502-108175730cdb"
      },
      "source": [
        "from matplotlib import pyplot as plt\n",
        "for i in data.columns[:-1]:\n",
        "  plt.figure(figsize = (3,3))\n",
        "  data[i].plot(kind='box',subplots=True, sharex=False, sharey=False)\n",
        "plt.show()"
      ],
      "execution_count": null,
      "outputs": [
        {
          "output_type": "display_data",
          "data": {
            "image/png": "[encoded data removed]",
            "text/plain": [
              "<Figure size 216x216 with 1 Axes>"
            ]
          },
          "metadata": {
            "tags": [],
            "needs_background": "light"
          }
        },
        {
          "output_type": "display_data",
          "data": {
            "image/png": "[encoded data removed]",
            "text/plain": [
              "<Figure size 216x216 with 1 Axes>"
            ]
          },
          "metadata": {
            "tags": [],
            "needs_background": "light"
          }
        },
        {
          "output_type": "display_data",
          "data": {
            "image/png": "[encoded data removed]",
            "text/plain": [
              "<Figure size 216x216 with 1 Axes>"
            ]
          },
          "metadata": {
            "tags": [],
            "needs_background": "light"
          }
        },
        {
          "output_type": "display_data",
          "data": {
            "image/png": "[encoded data removed]",
            "text/plain": [
              "<Figure size 216x216 with 1 Axes>"
            ]
          },
          "metadata": {
            "tags": [],
            "needs_background": "light"
          }
        },
        {
          "output_type": "display_data",
          "data": {
            "image/png": "[encoded data removed]",
            "text/plain": [
              "<Figure size 216x216 with 1 Axes>"
            ]
          },
          "metadata": {
            "tags": [],
            "needs_background": "light"
          }
        },
        {
          "output_type": "display_data",
          "data": {
            "image/png": "[encoded data removed]",
            "text/plain": [
              "<Figure size 216x216 with 1 Axes>"
            ]
          },
          "metadata": {
            "tags": [],
            "needs_background": "light"
          }
        },
        {
          "output_type": "display_data",
          "data": {
            "image/png": "[encoded data removed]",
            "text/plain": [
              "<Figure size 216x216 with 1 Axes>"
            ]
          },
          "metadata": {
            "tags": [],
            "needs_background": "light"
          }
        },
        {
          "output_type": "display_data",
          "data": {
            "image/png": "[encoded data removed]",
            "text/plain": [
              "<Figure size 216x216 with 1 Axes>"
            ]
          },
          "metadata": {
            "tags": [],
            "needs_background": "light"
          }
        },
        {
          "output_type": "display_data",
          "data": {
            "image/png": "[encoded data removed]",
            "text/plain": [
              "<Figure size 216x216 with 1 Axes>"
            ]
          },
          "metadata": {
            "tags": [],
            "needs_background": "light"
          }
        },
        {
          "output_type": "display_data",
          "data": {
            "image/png": "[encoded data removed]",
            "text/plain": [
              "<Figure size 216x216 with 1 Axes>"
            ]
          },
          "metadata": {
            "tags": [],
            "needs_background": "light"
          }
        },
        {
          "output_type": "display_data",
          "data": {
            "image/png": "[encoded data removed]",
            "text/plain": [
              "<Figure size 216x216 with 1 Axes>"
            ]
          },
          "metadata": {
            "tags": [],
            "needs_background": "light"
          }
        },
        {
          "output_type": "display_data",
          "data": {
            "image/png": "[encoded data removed]",
            "text/plain": [
              "<Figure size 216x216 with 1 Axes>"
            ]
          },
          "metadata": {
            "tags": [],
            "needs_background": "light"
          }
        },
        {
          "output_type": "display_data",
          "data": {
            "image/png": "[encoded data removed]",
            "text/plain": [
              "<Figure size 216x216 with 1 Axes>"
            ]
          },
          "metadata": {
            "tags": [],
            "needs_background": "light"
          }
        },
        {
          "output_type": "display_data",
          "data": {
            "image/png": "[encoded data removed]",
            "text/plain": [
              "<Figure size 216x216 with 1 Axes>"
            ]
          },
          "metadata": {
            "tags": [],
            "needs_background": "light"
          }
        }
      ]
    },
    {
      "cell_type": "code",
      "metadata": {
        "colab": {
          "base_uri": "https://localhost:8080/",
          "height": 1000
        },
        "id": "qVVry4TGRt_x",
        "outputId": "f860f24a-cbdf-4f09-d595-1c822a90d9d0"
      },
      "source": [
        "for i in data.columns[:-1]:\n",
        "  plt.figure(figsize = (3,3))\n",
        "  data[i].hist()\n",
        "  plt.title(label = i)\n",
        "plt.show()"
      ],
      "execution_count": null,
      "outputs": [
        {
          "output_type": "display_data",
          "data": {
            "image/png": "[encoded data removed]",
            "text/plain": [
              "<Figure size 216x216 with 1 Axes>"
            ]
          },
          "metadata": {
            "tags": [],
            "needs_background": "light"
          }
        },
        {
          "output_type": "display_data",
          "data": {
            "image/png": "[encoded data removed]",
            "text/plain": [
              "<Figure size 216x216 with 1 Axes>"
            ]
          },
          "metadata": {
            "tags": [],
            "needs_background": "light"
          }
        },
        {
          "output_type": "display_data",
          "data": {
            "image/png": "[encoded data removed]",
            "text/plain": [
              "<Figure size 216x216 with 1 Axes>"
            ]
          },
          "metadata": {
            "tags": [],
            "needs_background": "light"
          }
        },
        {
          "output_type": "display_data",
          "data": {
            "image/png": "[encoded data removed]",
            "text/plain": [
              "<Figure size 216x216 with 1 Axes>"
            ]
          },
          "metadata": {
            "tags": [],
            "needs_background": "light"
          }
        },
        {
          "output_type": "display_data",
          "data": {
            "image/png": "[encoded data removed]",
            "text/plain": [
              "<Figure size 216x216 with 1 Axes>"
            ]
          },
          "metadata": {
            "tags": [],
            "needs_background": "light"
          }
        },
        {
          "output_type": "display_data",
          "data": {
            "image/png": "[encoded data removed]",
            "text/plain": [
              "<Figure size 216x216 with 1 Axes>"
            ]
          },
          "metadata": {
            "tags": [],
            "needs_background": "light"
          }
        },
        {
          "output_type": "display_data",
          "data": {
            "image/png": "[encoded data removed]",
            "text/plain": [
              "<Figure size 216x216 with 1 Axes>"
            ]
          },
          "metadata": {
            "tags": [],
            "needs_background": "light"
          }
        },
        {
          "output_type": "display_data",
          "data": {
            "image/png": "[encoded data removed]",
            "text/plain": [
              "<Figure size 216x216 with 1 Axes>"
            ]
          },
          "metadata": {
            "tags": [],
            "needs_background": "light"
          }
        },
        {
          "output_type": "display_data",
          "data": {
            "image/png": "[encoded data removed]",
            "text/plain": [
              "<Figure size 216x216 with 1 Axes>"
            ]
          },
          "metadata": {
            "tags": [],
            "needs_background": "light"
          }
        },
        {
          "output_type": "display_data",
          "data": {
            "image/png": "[encoded data removed]",
            "text/plain": [
              "<Figure size 216x216 with 1 Axes>"
            ]
          },
          "metadata": {
            "tags": [],
            "needs_background": "light"
          }
        },
        {
          "output_type": "display_data",
          "data": {
            "image/png": "[encoded data removed]",
            "text/plain": [
              "<Figure size 216x216 with 1 Axes>"
            ]
          },
          "metadata": {
            "tags": [],
            "needs_background": "light"
          }
        },
        {
          "output_type": "display_data",
          "data": {
            "image/png": "[encoded data removed]",
            "text/plain": [
              "<Figure size 216x216 with 1 Axes>"
            ]
          },
          "metadata": {
            "tags": [],
            "needs_background": "light"
          }
        },
        {
          "output_type": "display_data",
          "data": {
            "image/png": "[encoded data removed]",
            "text/plain": [
              "<Figure size 216x216 with 1 Axes>"
            ]
          },
          "metadata": {
            "tags": [],
            "needs_background": "light"
          }
        },
        {
          "output_type": "display_data",
          "data": {
            "image/png": "[encoded data removed]",
            "text/plain": [
              "<Figure size 216x216 with 1 Axes>"
            ]
          },
          "metadata": {
            "tags": [],
            "needs_background": "light"
          }
        }
      ]
    },
    {
      "cell_type": "code",
      "metadata": {
        "colab": {
          "base_uri": "https://localhost:8080/"
        },
        "id": "6n22-z2iS9qL",
        "outputId": "5336fca5-d2a3-4f50-948c-90b2fbc44679"
      },
      "source": [
        "print(data.groupby('Label').size())"
      ],
      "execution_count": null,
      "outputs": [
        {
          "output_type": "stream",
          "text": [
            "Label\n",
            "1    15\n",
            "2    58\n",
            "3     9\n",
            "4     9\n",
            "dtype: int64\n"
          ],
          "name": "stdout"
        }
      ]
    },
    {
      "cell_type": "code",
      "metadata": {
        "colab": {
          "base_uri": "https://localhost:8080/",
          "height": 399
        },
        "id": "3dJeIeQlUHF1",
        "outputId": "042f2fe3-5ca5-44dd-e5a7-0db27fe6bcef"
      },
      "source": [
        "data"
      ],
      "execution_count": null,
      "outputs": [
        {
          "output_type": "execute_result",
          "data": {
            "text/html": [
              "<div>\n",
              "<style scoped>\n",
              "    .dataframe tbody tr th:only-of-type {\n",
              "        vertical-align: middle;\n",
              "    }\n",
              "\n",
              "    .dataframe tbody tr th {\n",
              "        vertical-align: top;\n",
              "    }\n",
              "\n",
              "    .dataframe thead th {\n",
              "        text-align: right;\n",
              "    }\n",
              "</style>\n",
              "<table border=\"1\" class=\"dataframe\">\n",
              "  <thead>\n",
              "    <tr style=\"text-align: right;\">\n",
              "      <th></th>\n",
              "      <th>f1</th>\n",
              "      <th>F2</th>\n",
              "      <th>F3</th>\n",
              "      <th>F4</th>\n",
              "      <th>F5</th>\n",
              "      <th>F6</th>\n",
              "      <th>F7</th>\n",
              "      <th>F8</th>\n",
              "      <th>F9</th>\n",
              "      <th>F10</th>\n",
              "      <th>F11</th>\n",
              "      <th>F12</th>\n",
              "      <th>F13</th>\n",
              "      <th>F14</th>\n",
              "      <th>Label</th>\n",
              "    </tr>\n",
              "  </thead>\n",
              "  <tbody>\n",
              "    <tr>\n",
              "      <th>0</th>\n",
              "      <td>0.736626</td>\n",
              "      <td>0.597937</td>\n",
              "      <td>1.535647</td>\n",
              "      <td>0.781507</td>\n",
              "      <td>4.062768</td>\n",
              "      <td>1.828305</td>\n",
              "      <td>0.913014</td>\n",
              "      <td>0.842583</td>\n",
              "      <td>2.0085</td>\n",
              "      <td>4.7122</td>\n",
              "      <td>6.6631</td>\n",
              "      <td>12.4585</td>\n",
              "      <td>20.4063</td>\n",
              "      <td>30.8238</td>\n",
              "      <td>1</td>\n",
              "    </tr>\n",
              "    <tr>\n",
              "      <th>1</th>\n",
              "      <td>0.694672</td>\n",
              "      <td>0.516291</td>\n",
              "      <td>1.806776</td>\n",
              "      <td>0.699669</td>\n",
              "      <td>4.372226</td>\n",
              "      <td>1.805135</td>\n",
              "      <td>0.860493</td>\n",
              "      <td>0.823922</td>\n",
              "      <td>2.0945</td>\n",
              "      <td>5.0521</td>\n",
              "      <td>6.7158</td>\n",
              "      <td>14.1530</td>\n",
              "      <td>25.4531</td>\n",
              "      <td>41.2382</td>\n",
              "      <td>1</td>\n",
              "    </tr>\n",
              "    <tr>\n",
              "      <th>2</th>\n",
              "      <td>0.716667</td>\n",
              "      <td>0.547966</td>\n",
              "      <td>1.690245</td>\n",
              "      <td>0.734749</td>\n",
              "      <td>4.243978</td>\n",
              "      <td>1.816461</td>\n",
              "      <td>0.892896</td>\n",
              "      <td>0.826502</td>\n",
              "      <td>2.1296</td>\n",
              "      <td>5.0518</td>\n",
              "      <td>6.8320</td>\n",
              "      <td>13.4940</td>\n",
              "      <td>24.6055</td>\n",
              "      <td>40.1646</td>\n",
              "      <td>1</td>\n",
              "    </tr>\n",
              "    <tr>\n",
              "      <th>3</th>\n",
              "      <td>0.673077</td>\n",
              "      <td>0.548412</td>\n",
              "      <td>1.763861</td>\n",
              "      <td>0.697036</td>\n",
              "      <td>4.242250</td>\n",
              "      <td>1.767403</td>\n",
              "      <td>0.875309</td>\n",
              "      <td>0.847430</td>\n",
              "      <td>1.9192</td>\n",
              "      <td>4.7676</td>\n",
              "      <td>7.2061</td>\n",
              "      <td>15.1770</td>\n",
              "      <td>24.5586</td>\n",
              "      <td>39.6899</td>\n",
              "      <td>1</td>\n",
              "    </tr>\n",
              "    <tr>\n",
              "      <th>4</th>\n",
              "      <td>0.728216</td>\n",
              "      <td>0.548810</td>\n",
              "      <td>1.674075</td>\n",
              "      <td>0.744214</td>\n",
              "      <td>4.240712</td>\n",
              "      <td>1.826158</td>\n",
              "      <td>0.894028</td>\n",
              "      <td>0.822953</td>\n",
              "      <td>2.2200</td>\n",
              "      <td>5.1391</td>\n",
              "      <td>7.2910</td>\n",
              "      <td>14.2070</td>\n",
              "      <td>25.6758</td>\n",
              "      <td>44.7681</td>\n",
              "      <td>1</td>\n",
              "    </tr>\n",
              "    <tr>\n",
              "      <th>...</th>\n",
              "      <td>...</td>\n",
              "      <td>...</td>\n",
              "      <td>...</td>\n",
              "      <td>...</td>\n",
              "      <td>...</td>\n",
              "      <td>...</td>\n",
              "      <td>...</td>\n",
              "      <td>...</td>\n",
              "      <td>...</td>\n",
              "      <td>...</td>\n",
              "      <td>...</td>\n",
              "      <td>...</td>\n",
              "      <td>...</td>\n",
              "      <td>...</td>\n",
              "      <td>...</td>\n",
              "    </tr>\n",
              "    <tr>\n",
              "      <th>86</th>\n",
              "      <td>0.769697</td>\n",
              "      <td>0.522658</td>\n",
              "      <td>1.629506</td>\n",
              "      <td>0.775509</td>\n",
              "      <td>4.345515</td>\n",
              "      <td>1.904273</td>\n",
              "      <td>0.887588</td>\n",
              "      <td>0.796931</td>\n",
              "      <td>1.7820</td>\n",
              "      <td>3.0889</td>\n",
              "      <td>5.1602</td>\n",
              "      <td>9.0788</td>\n",
              "      <td>17.0703</td>\n",
              "      <td>28.8792</td>\n",
              "      <td>4</td>\n",
              "    </tr>\n",
              "    <tr>\n",
              "      <th>87</th>\n",
              "      <td>0.728571</td>\n",
              "      <td>0.493510</td>\n",
              "      <td>1.668296</td>\n",
              "      <td>0.745684</td>\n",
              "      <td>4.471999</td>\n",
              "      <td>1.929163</td>\n",
              "      <td>0.879280</td>\n",
              "      <td>0.785856</td>\n",
              "      <td>1.3904</td>\n",
              "      <td>2.3015</td>\n",
              "      <td>4.0264</td>\n",
              "      <td>7.0648</td>\n",
              "      <td>17.1914</td>\n",
              "      <td>25.8266</td>\n",
              "      <td>4</td>\n",
              "    </tr>\n",
              "    <tr>\n",
              "      <th>88</th>\n",
              "      <td>0.771028</td>\n",
              "      <td>0.559942</td>\n",
              "      <td>1.715493</td>\n",
              "      <td>0.756477</td>\n",
              "      <td>4.198348</td>\n",
              "      <td>1.793282</td>\n",
              "      <td>0.876324</td>\n",
              "      <td>0.839501</td>\n",
              "      <td>1.5364</td>\n",
              "      <td>2.6786</td>\n",
              "      <td>4.0938</td>\n",
              "      <td>7.1103</td>\n",
              "      <td>16.2148</td>\n",
              "      <td>26.9172</td>\n",
              "      <td>4</td>\n",
              "    </tr>\n",
              "    <tr>\n",
              "      <th>89</th>\n",
              "      <td>0.545259</td>\n",
              "      <td>0.561321</td>\n",
              "      <td>1.783165</td>\n",
              "      <td>0.623965</td>\n",
              "      <td>4.193187</td>\n",
              "      <td>1.693182</td>\n",
              "      <td>0.903109</td>\n",
              "      <td>0.892255</td>\n",
              "      <td>1.5095</td>\n",
              "      <td>2.7215</td>\n",
              "      <td>4.7344</td>\n",
              "      <td>8.6599</td>\n",
              "      <td>18.5391</td>\n",
              "      <td>31.8892</td>\n",
              "      <td>4</td>\n",
              "    </tr>\n",
              "    <tr>\n",
              "      <th>90</th>\n",
              "      <td>0.596567</td>\n",
              "      <td>0.579332</td>\n",
              "      <td>1.741307</td>\n",
              "      <td>0.660461</td>\n",
              "      <td>4.127492</td>\n",
              "      <td>1.707442</td>\n",
              "      <td>0.879668</td>\n",
              "      <td>0.901396</td>\n",
              "      <td>1.4929</td>\n",
              "      <td>3.0654</td>\n",
              "      <td>4.8467</td>\n",
              "      <td>10.0374</td>\n",
              "      <td>20.0977</td>\n",
              "      <td>34.2642</td>\n",
              "      <td>4</td>\n",
              "    </tr>\n",
              "  </tbody>\n",
              "</table>\n",
              "<p>91 rows × 15 columns</p>\n",
              "</div>"
            ],
            "text/plain": [
              "          f1        F2        F3        F4  ...      F12      F13      F14  Label\n",
              "0   0.736626  0.597937  1.535647  0.781507  ...  12.4585  20.4063  30.8238      1\n",
              "1   0.694672  0.516291  1.806776  0.699669  ...  14.1530  25.4531  41.2382      1\n",
              "2   0.716667  0.547966  1.690245  0.734749  ...  13.4940  24.6055  40.1646      1\n",
              "3   0.673077  0.548412  1.763861  0.697036  ...  15.1770  24.5586  39.6899      1\n",
              "4   0.728216  0.548810  1.674075  0.744214  ...  14.2070  25.6758  44.7681      1\n",
              "..       ...       ...       ...       ...  ...      ...      ...      ...    ...\n",
              "86  0.769697  0.522658  1.629506  0.775509  ...   9.0788  17.0703  28.8792      4\n",
              "87  0.728571  0.493510  1.668296  0.745684  ...   7.0648  17.1914  25.8266      4\n",
              "88  0.771028  0.559942  1.715493  0.756477  ...   7.1103  16.2148  26.9172      4\n",
              "89  0.545259  0.561321  1.783165  0.623965  ...   8.6599  18.5391  31.8892      4\n",
              "90  0.596567  0.579332  1.741307  0.660461  ...  10.0374  20.0977  34.2642      4\n",
              "\n",
              "[91 rows x 15 columns]"
            ]
          },
          "metadata": {
            "tags": []
          },
          "execution_count": 12
        }
      ]
    },
    {
      "cell_type": "code",
      "metadata": {
        "id": "Tjb6S84mUNpF"
      },
      "source": [
        "def minmax(df_input):\n",
        "  list_fitur = df_input.columns[:-1]\n",
        "  for fitur in list_fitur :\n",
        "    max = df_input[fitur].max()\n",
        "    min = df_input[fitur].min()\n",
        "    df_input[fitur] = (df_input[fitur]-min)/(max-min)\n",
        "  return df_input"
      ],
      "execution_count": null,
      "outputs": []
    },
    {
      "cell_type": "code",
      "metadata": {
        "id": "9gxLhmWIUbHE"
      },
      "source": [
        "data_normal = minmax(data)"
      ],
      "execution_count": null,
      "outputs": []
    },
    {
      "cell_type": "code",
      "metadata": {
        "colab": {
          "base_uri": "https://localhost:8080/",
          "height": 399
        },
        "id": "wY-lRXYjdZKF",
        "outputId": "cb3cd97b-d084-4b5a-d888-25ff10899ca4"
      },
      "source": [
        "data_normal"
      ],
      "execution_count": null,
      "outputs": [
        {
          "output_type": "execute_result",
          "data": {
            "text/html": [
              "<div>\n",
              "<style scoped>\n",
              "    .dataframe tbody tr th:only-of-type {\n",
              "        vertical-align: middle;\n",
              "    }\n",
              "\n",
              "    .dataframe tbody tr th {\n",
              "        vertical-align: top;\n",
              "    }\n",
              "\n",
              "    .dataframe thead th {\n",
              "        text-align: right;\n",
              "    }\n",
              "</style>\n",
              "<table border=\"1\" class=\"dataframe\">\n",
              "  <thead>\n",
              "    <tr style=\"text-align: right;\">\n",
              "      <th></th>\n",
              "      <th>f1</th>\n",
              "      <th>F2</th>\n",
              "      <th>F3</th>\n",
              "      <th>F4</th>\n",
              "      <th>F5</th>\n",
              "      <th>F6</th>\n",
              "      <th>F7</th>\n",
              "      <th>F8</th>\n",
              "      <th>F9</th>\n",
              "      <th>F10</th>\n",
              "      <th>F11</th>\n",
              "      <th>F12</th>\n",
              "      <th>F13</th>\n",
              "      <th>F14</th>\n",
              "      <th>Label</th>\n",
              "    </tr>\n",
              "  </thead>\n",
              "  <tbody>\n",
              "    <tr>\n",
              "      <th>0</th>\n",
              "      <td>0.460619</td>\n",
              "      <td>0.759635</td>\n",
              "      <td>0.290048</td>\n",
              "      <td>0.539905</td>\n",
              "      <td>0.171525</td>\n",
              "      <td>0.255550</td>\n",
              "      <td>0.753237</td>\n",
              "      <td>0.711692</td>\n",
              "      <td>0.386159</td>\n",
              "      <td>0.582731</td>\n",
              "      <td>0.731382</td>\n",
              "      <td>0.664887</td>\n",
              "      <td>0.607721</td>\n",
              "      <td>0.369286</td>\n",
              "      <td>1</td>\n",
              "    </tr>\n",
              "    <tr>\n",
              "      <th>1</th>\n",
              "      <td>0.359638</td>\n",
              "      <td>0.479789</td>\n",
              "      <td>0.824893</td>\n",
              "      <td>0.259442</td>\n",
              "      <td>0.413736</td>\n",
              "      <td>0.211731</td>\n",
              "      <td>0.402066</td>\n",
              "      <td>0.620216</td>\n",
              "      <td>0.429317</td>\n",
              "      <td>0.664894</td>\n",
              "      <td>0.743101</td>\n",
              "      <td>0.873770</td>\n",
              "      <td>0.933649</td>\n",
              "      <td>0.818430</td>\n",
              "      <td>1</td>\n",
              "    </tr>\n",
              "    <tr>\n",
              "      <th>2</th>\n",
              "      <td>0.412578</td>\n",
              "      <td>0.588356</td>\n",
              "      <td>0.595017</td>\n",
              "      <td>0.379662</td>\n",
              "      <td>0.313357</td>\n",
              "      <td>0.233150</td>\n",
              "      <td>0.618727</td>\n",
              "      <td>0.632864</td>\n",
              "      <td>0.446931</td>\n",
              "      <td>0.664821</td>\n",
              "      <td>0.768940</td>\n",
              "      <td>0.792535</td>\n",
              "      <td>0.878910</td>\n",
              "      <td>0.772129</td>\n",
              "      <td>1</td>\n",
              "    </tr>\n",
              "    <tr>\n",
              "      <th>3</th>\n",
              "      <td>0.307658</td>\n",
              "      <td>0.589887</td>\n",
              "      <td>0.740237</td>\n",
              "      <td>0.250418</td>\n",
              "      <td>0.312004</td>\n",
              "      <td>0.140369</td>\n",
              "      <td>0.501133</td>\n",
              "      <td>0.735454</td>\n",
              "      <td>0.341346</td>\n",
              "      <td>0.596123</td>\n",
              "      <td>0.852127</td>\n",
              "      <td>1.000000</td>\n",
              "      <td>0.875882</td>\n",
              "      <td>0.751656</td>\n",
              "      <td>1</td>\n",
              "    </tr>\n",
              "    <tr>\n",
              "      <th>4</th>\n",
              "      <td>0.440377</td>\n",
              "      <td>0.591250</td>\n",
              "      <td>0.563119</td>\n",
              "      <td>0.412099</td>\n",
              "      <td>0.310801</td>\n",
              "      <td>0.251490</td>\n",
              "      <td>0.626292</td>\n",
              "      <td>0.615464</td>\n",
              "      <td>0.492297</td>\n",
              "      <td>0.685924</td>\n",
              "      <td>0.871006</td>\n",
              "      <td>0.880427</td>\n",
              "      <td>0.948032</td>\n",
              "      <td>0.970665</td>\n",
              "      <td>1</td>\n",
              "    </tr>\n",
              "    <tr>\n",
              "      <th>...</th>\n",
              "      <td>...</td>\n",
              "      <td>...</td>\n",
              "      <td>...</td>\n",
              "      <td>...</td>\n",
              "      <td>...</td>\n",
              "      <td>...</td>\n",
              "      <td>...</td>\n",
              "      <td>...</td>\n",
              "      <td>...</td>\n",
              "      <td>...</td>\n",
              "      <td>...</td>\n",
              "      <td>...</td>\n",
              "      <td>...</td>\n",
              "      <td>...</td>\n",
              "      <td>...</td>\n",
              "    </tr>\n",
              "    <tr>\n",
              "      <th>86</th>\n",
              "      <td>0.540222</td>\n",
              "      <td>0.501611</td>\n",
              "      <td>0.475201</td>\n",
              "      <td>0.519350</td>\n",
              "      <td>0.392829</td>\n",
              "      <td>0.399224</td>\n",
              "      <td>0.583235</td>\n",
              "      <td>0.487900</td>\n",
              "      <td>0.272495</td>\n",
              "      <td>0.190336</td>\n",
              "      <td>0.397189</td>\n",
              "      <td>0.248268</td>\n",
              "      <td>0.392279</td>\n",
              "      <td>0.285420</td>\n",
              "      <td>4</td>\n",
              "    </tr>\n",
              "    <tr>\n",
              "      <th>87</th>\n",
              "      <td>0.441233</td>\n",
              "      <td>0.401708</td>\n",
              "      <td>0.551720</td>\n",
              "      <td>0.417136</td>\n",
              "      <td>0.491828</td>\n",
              "      <td>0.446297</td>\n",
              "      <td>0.527687</td>\n",
              "      <td>0.433611</td>\n",
              "      <td>0.075977</td>\n",
              "      <td>0.000000</td>\n",
              "      <td>0.145071</td>\n",
              "      <td>0.000000</td>\n",
              "      <td>0.400099</td>\n",
              "      <td>0.153770</td>\n",
              "      <td>4</td>\n",
              "    </tr>\n",
              "    <tr>\n",
              "      <th>88</th>\n",
              "      <td>0.543426</td>\n",
              "      <td>0.629404</td>\n",
              "      <td>0.644824</td>\n",
              "      <td>0.454125</td>\n",
              "      <td>0.277642</td>\n",
              "      <td>0.189313</td>\n",
              "      <td>0.507923</td>\n",
              "      <td>0.696585</td>\n",
              "      <td>0.149245</td>\n",
              "      <td>0.091155</td>\n",
              "      <td>0.160059</td>\n",
              "      <td>0.005609</td>\n",
              "      <td>0.337030</td>\n",
              "      <td>0.200805</td>\n",
              "      <td>4</td>\n",
              "    </tr>\n",
              "    <tr>\n",
              "      <th>89</th>\n",
              "      <td>0.000000</td>\n",
              "      <td>0.634132</td>\n",
              "      <td>0.778317</td>\n",
              "      <td>0.000000</td>\n",
              "      <td>0.273603</td>\n",
              "      <td>0.000000</td>\n",
              "      <td>0.687013</td>\n",
              "      <td>0.955191</td>\n",
              "      <td>0.135745</td>\n",
              "      <td>0.101525</td>\n",
              "      <td>0.302506</td>\n",
              "      <td>0.196630</td>\n",
              "      <td>0.487135</td>\n",
              "      <td>0.415233</td>\n",
              "      <td>4</td>\n",
              "    </tr>\n",
              "    <tr>\n",
              "      <th>90</th>\n",
              "      <td>0.123498</td>\n",
              "      <td>0.695864</td>\n",
              "      <td>0.695745</td>\n",
              "      <td>0.125071</td>\n",
              "      <td>0.222184</td>\n",
              "      <td>0.026970</td>\n",
              "      <td>0.530275</td>\n",
              "      <td>1.000000</td>\n",
              "      <td>0.127415</td>\n",
              "      <td>0.184655</td>\n",
              "      <td>0.327478</td>\n",
              "      <td>0.366436</td>\n",
              "      <td>0.587792</td>\n",
              "      <td>0.517661</td>\n",
              "      <td>4</td>\n",
              "    </tr>\n",
              "  </tbody>\n",
              "</table>\n",
              "<p>91 rows × 15 columns</p>\n",
              "</div>"
            ],
            "text/plain": [
              "          f1        F2        F3        F4  ...       F12       F13       F14  Label\n",
              "0   0.460619  0.759635  0.290048  0.539905  ...  0.664887  0.607721  0.369286      1\n",
              "1   0.359638  0.479789  0.824893  0.259442  ...  0.873770  0.933649  0.818430      1\n",
              "2   0.412578  0.588356  0.595017  0.379662  ...  0.792535  0.878910  0.772129      1\n",
              "3   0.307658  0.589887  0.740237  0.250418  ...  1.000000  0.875882  0.751656      1\n",
              "4   0.440377  0.591250  0.563119  0.412099  ...  0.880427  0.948032  0.970665      1\n",
              "..       ...       ...       ...       ...  ...       ...       ...       ...    ...\n",
              "86  0.540222  0.501611  0.475201  0.519350  ...  0.248268  0.392279  0.285420      4\n",
              "87  0.441233  0.401708  0.551720  0.417136  ...  0.000000  0.400099  0.153770      4\n",
              "88  0.543426  0.629404  0.644824  0.454125  ...  0.005609  0.337030  0.200805      4\n",
              "89  0.000000  0.634132  0.778317  0.000000  ...  0.196630  0.487135  0.415233      4\n",
              "90  0.123498  0.695864  0.695745  0.125071  ...  0.366436  0.587792  0.517661      4\n",
              "\n",
              "[91 rows x 15 columns]"
            ]
          },
          "metadata": {
            "tags": []
          },
          "execution_count": 15
        }
      ]
    },
    {
      "cell_type": "code",
      "metadata": {
        "id": "QrL6wsYXKOtF"
      },
      "source": [
        "from sklearn.model_selection import train_test_split\n",
        "data_train, data_test = train_test_split(data_normal, test_size = 0.3, train_size = 0.7)"
      ],
      "execution_count": null,
      "outputs": []
    },
    {
      "cell_type": "code",
      "metadata": {
        "colab": {
          "base_uri": "https://localhost:8080/"
        },
        "id": "JzbhAAf5JwxW",
        "outputId": "edeeb948-b22e-4415-d5cb-04da0b4b7ef7"
      },
      "source": [
        "data_train.shape[0]"
      ],
      "execution_count": null,
      "outputs": [
        {
          "output_type": "execute_result",
          "data": {
            "text/plain": [
              "63"
            ]
          },
          "metadata": {
            "tags": []
          },
          "execution_count": 17
        }
      ]
    },
    {
      "cell_type": "code",
      "metadata": {
        "colab": {
          "base_uri": "https://localhost:8080/"
        },
        "id": "ncBYItItLsQ1",
        "outputId": "1843c8e9-c967-4cc9-f96b-e2d1454d46cc"
      },
      "source": [
        "data_test.shape[0]"
      ],
      "execution_count": null,
      "outputs": [
        {
          "output_type": "execute_result",
          "data": {
            "text/plain": [
              "28"
            ]
          },
          "metadata": {
            "tags": []
          },
          "execution_count": 18
        }
      ]
    },
    {
      "cell_type": "code",
      "metadata": {
        "id": "0ul2T7WSKm_G"
      },
      "source": [
        "label_uji = data_test.copy().pop('Label')"
      ],
      "execution_count": null,
      "outputs": []
    },
    {
      "cell_type": "code",
      "metadata": {
        "colab": {
          "base_uri": "https://localhost:8080/",
          "height": 194
        },
        "id": "YCoFt-5lQFm5",
        "outputId": "1ca14cdc-8419-4e1a-cd86-c3f9d87b8d7f"
      },
      "source": [
        "data_test.head()"
      ],
      "execution_count": null,
      "outputs": [
        {
          "output_type": "execute_result",
          "data": {
            "text/html": [
              "<div>\n",
              "<style scoped>\n",
              "    .dataframe tbody tr th:only-of-type {\n",
              "        vertical-align: middle;\n",
              "    }\n",
              "\n",
              "    .dataframe tbody tr th {\n",
              "        vertical-align: top;\n",
              "    }\n",
              "\n",
              "    .dataframe thead th {\n",
              "        text-align: right;\n",
              "    }\n",
              "</style>\n",
              "<table border=\"1\" class=\"dataframe\">\n",
              "  <thead>\n",
              "    <tr style=\"text-align: right;\">\n",
              "      <th></th>\n",
              "      <th>f1</th>\n",
              "      <th>F2</th>\n",
              "      <th>F3</th>\n",
              "      <th>F4</th>\n",
              "      <th>F5</th>\n",
              "      <th>F6</th>\n",
              "      <th>F7</th>\n",
              "      <th>F8</th>\n",
              "      <th>F9</th>\n",
              "      <th>F10</th>\n",
              "      <th>F11</th>\n",
              "      <th>F12</th>\n",
              "      <th>F13</th>\n",
              "      <th>F14</th>\n",
              "      <th>Label</th>\n",
              "    </tr>\n",
              "  </thead>\n",
              "  <tbody>\n",
              "    <tr>\n",
              "      <th>10</th>\n",
              "      <td>0.495288</td>\n",
              "      <td>0.931528</td>\n",
              "      <td>0.239338</td>\n",
              "      <td>0.588886</td>\n",
              "      <td>0.046014</td>\n",
              "      <td>0.151994</td>\n",
              "      <td>0.904211</td>\n",
              "      <td>0.823581</td>\n",
              "      <td>0.257891</td>\n",
              "      <td>0.455365</td>\n",
              "      <td>0.522692</td>\n",
              "      <td>0.566788</td>\n",
              "      <td>0.774470</td>\n",
              "      <td>0.622524</td>\n",
              "      <td>1</td>\n",
              "    </tr>\n",
              "    <tr>\n",
              "      <th>3</th>\n",
              "      <td>0.307658</td>\n",
              "      <td>0.589887</td>\n",
              "      <td>0.740237</td>\n",
              "      <td>0.250418</td>\n",
              "      <td>0.312004</td>\n",
              "      <td>0.140369</td>\n",
              "      <td>0.501133</td>\n",
              "      <td>0.735454</td>\n",
              "      <td>0.341346</td>\n",
              "      <td>0.596123</td>\n",
              "      <td>0.852127</td>\n",
              "      <td>1.000000</td>\n",
              "      <td>0.875882</td>\n",
              "      <td>0.751656</td>\n",
              "      <td>1</td>\n",
              "    </tr>\n",
              "    <tr>\n",
              "      <th>65</th>\n",
              "      <td>0.775186</td>\n",
              "      <td>0.326774</td>\n",
              "      <td>0.244455</td>\n",
              "      <td>0.789913</td>\n",
              "      <td>0.572032</td>\n",
              "      <td>0.756560</td>\n",
              "      <td>0.552662</td>\n",
              "      <td>0.323797</td>\n",
              "      <td>0.309981</td>\n",
              "      <td>0.628393</td>\n",
              "      <td>0.503369</td>\n",
              "      <td>0.707416</td>\n",
              "      <td>0.321898</td>\n",
              "      <td>0.283518</td>\n",
              "      <td>2</td>\n",
              "    </tr>\n",
              "    <tr>\n",
              "      <th>64</th>\n",
              "      <td>0.763775</td>\n",
              "      <td>0.535474</td>\n",
              "      <td>0.156190</td>\n",
              "      <td>0.826076</td>\n",
              "      <td>0.361132</td>\n",
              "      <td>0.578982</td>\n",
              "      <td>0.781321</td>\n",
              "      <td>0.430503</td>\n",
              "      <td>0.357405</td>\n",
              "      <td>0.564916</td>\n",
              "      <td>0.429966</td>\n",
              "      <td>0.518232</td>\n",
              "      <td>0.533298</td>\n",
              "      <td>0.486592</td>\n",
              "      <td>2</td>\n",
              "    </tr>\n",
              "    <tr>\n",
              "      <th>43</th>\n",
              "      <td>0.899983</td>\n",
              "      <td>0.605882</td>\n",
              "      <td>0.151877</td>\n",
              "      <td>0.924053</td>\n",
              "      <td>0.297967</td>\n",
              "      <td>0.517711</td>\n",
              "      <td>0.820422</td>\n",
              "      <td>0.477569</td>\n",
              "      <td>0.407738</td>\n",
              "      <td>0.624429</td>\n",
              "      <td>0.374375</td>\n",
              "      <td>0.425199</td>\n",
              "      <td>0.290867</td>\n",
              "      <td>0.208072</td>\n",
              "      <td>2</td>\n",
              "    </tr>\n",
              "  </tbody>\n",
              "</table>\n",
              "</div>"
            ],
            "text/plain": [
              "          f1        F2        F3        F4  ...       F12       F13       F14  Label\n",
              "10  0.495288  0.931528  0.239338  0.588886  ...  0.566788  0.774470  0.622524      1\n",
              "3   0.307658  0.589887  0.740237  0.250418  ...  1.000000  0.875882  0.751656      1\n",
              "65  0.775186  0.326774  0.244455  0.789913  ...  0.707416  0.321898  0.283518      2\n",
              "64  0.763775  0.535474  0.156190  0.826076  ...  0.518232  0.533298  0.486592      2\n",
              "43  0.899983  0.605882  0.151877  0.924053  ...  0.425199  0.290867  0.208072      2\n",
              "\n",
              "[5 rows x 15 columns]"
            ]
          },
          "metadata": {
            "tags": []
          },
          "execution_count": 20
        }
      ]
    },
    {
      "cell_type": "code",
      "metadata": {
        "colab": {
          "base_uri": "https://localhost:8080/",
          "height": 194
        },
        "id": "OQ28LqsyJvtn",
        "outputId": "c2d14760-32ac-4f19-db49-bcc2c876516c"
      },
      "source": [
        "data_train.head()"
      ],
      "execution_count": null,
      "outputs": [
        {
          "output_type": "execute_result",
          "data": {
            "text/html": [
              "<div>\n",
              "<style scoped>\n",
              "    .dataframe tbody tr th:only-of-type {\n",
              "        vertical-align: middle;\n",
              "    }\n",
              "\n",
              "    .dataframe tbody tr th {\n",
              "        vertical-align: top;\n",
              "    }\n",
              "\n",
              "    .dataframe thead th {\n",
              "        text-align: right;\n",
              "    }\n",
              "</style>\n",
              "<table border=\"1\" class=\"dataframe\">\n",
              "  <thead>\n",
              "    <tr style=\"text-align: right;\">\n",
              "      <th></th>\n",
              "      <th>f1</th>\n",
              "      <th>F2</th>\n",
              "      <th>F3</th>\n",
              "      <th>F4</th>\n",
              "      <th>F5</th>\n",
              "      <th>F6</th>\n",
              "      <th>F7</th>\n",
              "      <th>F8</th>\n",
              "      <th>F9</th>\n",
              "      <th>F10</th>\n",
              "      <th>F11</th>\n",
              "      <th>F12</th>\n",
              "      <th>F13</th>\n",
              "      <th>F14</th>\n",
              "      <th>Label</th>\n",
              "    </tr>\n",
              "  </thead>\n",
              "  <tbody>\n",
              "    <tr>\n",
              "      <th>69</th>\n",
              "      <td>0.879238</td>\n",
              "      <td>0.566484</td>\n",
              "      <td>0.177985</td>\n",
              "      <td>0.895992</td>\n",
              "      <td>0.332869</td>\n",
              "      <td>0.539335</td>\n",
              "      <td>0.733851</td>\n",
              "      <td>0.458153</td>\n",
              "      <td>0.346113</td>\n",
              "      <td>0.599990</td>\n",
              "      <td>0.310756</td>\n",
              "      <td>0.406622</td>\n",
              "      <td>0.256813</td>\n",
              "      <td>0.243311</td>\n",
              "      <td>2</td>\n",
              "    </tr>\n",
              "    <tr>\n",
              "      <th>32</th>\n",
              "      <td>0.897377</td>\n",
              "      <td>0.509494</td>\n",
              "      <td>0.289870</td>\n",
              "      <td>0.851723</td>\n",
              "      <td>0.385371</td>\n",
              "      <td>0.527970</td>\n",
              "      <td>0.699287</td>\n",
              "      <td>0.418570</td>\n",
              "      <td>0.440809</td>\n",
              "      <td>0.628248</td>\n",
              "      <td>0.471015</td>\n",
              "      <td>0.475753</td>\n",
              "      <td>0.475530</td>\n",
              "      <td>0.386463</td>\n",
              "      <td>2</td>\n",
              "    </tr>\n",
              "    <tr>\n",
              "      <th>76</th>\n",
              "      <td>0.624648</td>\n",
              "      <td>0.259378</td>\n",
              "      <td>0.790915</td>\n",
              "      <td>0.454865</td>\n",
              "      <td>0.649083</td>\n",
              "      <td>0.503156</td>\n",
              "      <td>0.273287</td>\n",
              "      <td>0.330546</td>\n",
              "      <td>0.730968</td>\n",
              "      <td>0.823950</td>\n",
              "      <td>0.626493</td>\n",
              "      <td>0.480166</td>\n",
              "      <td>0.612513</td>\n",
              "      <td>0.500401</td>\n",
              "      <td>3</td>\n",
              "    </tr>\n",
              "    <tr>\n",
              "      <th>27</th>\n",
              "      <td>0.687107</td>\n",
              "      <td>1.000000</td>\n",
              "      <td>0.119454</td>\n",
              "      <td>0.789460</td>\n",
              "      <td>0.000000</td>\n",
              "      <td>0.190042</td>\n",
              "      <td>0.887222</td>\n",
              "      <td>0.841149</td>\n",
              "      <td>0.250565</td>\n",
              "      <td>0.524982</td>\n",
              "      <td>0.288831</td>\n",
              "      <td>0.415966</td>\n",
              "      <td>0.353685</td>\n",
              "      <td>0.328185</td>\n",
              "      <td>2</td>\n",
              "    </tr>\n",
              "    <tr>\n",
              "      <th>44</th>\n",
              "      <td>0.817078</td>\n",
              "      <td>0.588396</td>\n",
              "      <td>0.324609</td>\n",
              "      <td>0.780206</td>\n",
              "      <td>0.313321</td>\n",
              "      <td>0.424533</td>\n",
              "      <td>0.744428</td>\n",
              "      <td>0.520262</td>\n",
              "      <td>0.382396</td>\n",
              "      <td>0.586284</td>\n",
              "      <td>0.439528</td>\n",
              "      <td>0.412071</td>\n",
              "      <td>0.395559</td>\n",
              "      <td>0.245079</td>\n",
              "      <td>2</td>\n",
              "    </tr>\n",
              "  </tbody>\n",
              "</table>\n",
              "</div>"
            ],
            "text/plain": [
              "          f1        F2        F3        F4  ...       F12       F13       F14  Label\n",
              "69  0.879238  0.566484  0.177985  0.895992  ...  0.406622  0.256813  0.243311      2\n",
              "32  0.897377  0.509494  0.289870  0.851723  ...  0.475753  0.475530  0.386463      2\n",
              "76  0.624648  0.259378  0.790915  0.454865  ...  0.480166  0.612513  0.500401      3\n",
              "27  0.687107  1.000000  0.119454  0.789460  ...  0.415966  0.353685  0.328185      2\n",
              "44  0.817078  0.588396  0.324609  0.780206  ...  0.412071  0.395559  0.245079      2\n",
              "\n",
              "[5 rows x 15 columns]"
            ]
          },
          "metadata": {
            "tags": []
          },
          "execution_count": 21
        }
      ]
    },
    {
      "cell_type": "code",
      "metadata": {
        "colab": {
          "base_uri": "https://localhost:8080/"
        },
        "id": "YQHn19nV93Z6",
        "outputId": "87849b8b-1f6b-471f-ce20-d0dc2fa97075"
      },
      "source": [
        "data_train_np = data_train.to_numpy()\n",
        "print(data_train_np)"
      ],
      "execution_count": null,
      "outputs": [
        {
          "output_type": "stream",
          "text": [
            "[[8.79238246e-01 5.66484260e-01 1.77984763e-01 8.95991988e-01\n",
            "  3.32868838e-01 5.39335490e-01 7.33850595e-01 4.58152603e-01\n",
            "  3.46113314e-01 5.99990331e-01 3.10755820e-01 4.06622125e-01\n",
            "  2.56813309e-01 2.43310965e-01 2.00000000e+00]\n",
            " [8.97377281e-01 5.09493613e-01 2.89869504e-01 8.51722836e-01\n",
            "  3.85370987e-01 5.27970060e-01 6.99286850e-01 4.18569724e-01\n",
            "  4.40808953e-01 6.28248205e-01 4.71014654e-01 4.75752570e-01\n",
            "  4.75530211e-01 3.86463221e-01 2.00000000e+00]\n",
            " [6.24648151e-01 2.59377960e-01 7.90914888e-01 4.54864747e-01\n",
            "  6.49083212e-01 5.03155577e-01 2.73286978e-01 3.30546049e-01\n",
            "  7.30968033e-01 8.23950301e-01 6.26492629e-01 4.80165676e-01\n",
            "  6.12513239e-01 5.00401083e-01 3.00000000e+00]\n",
            " [6.87106727e-01 1.00000000e+00 1.19454226e-01 7.89459527e-01\n",
            "  0.00000000e+00 1.90041775e-01 8.87222391e-01 8.41149056e-01\n",
            "  2.50564561e-01 5.24982475e-01 2.88830580e-01 4.15966076e-01\n",
            "  3.53684999e-01 3.28185378e-01 2.00000000e+00]\n",
            " [8.17078467e-01 5.88396368e-01 3.24608949e-01 7.80205917e-01\n",
            "  3.13321398e-01 4.24532981e-01 7.44427528e-01 5.20261701e-01\n",
            "  3.82395744e-01 5.86284416e-01 4.39527696e-01 4.12070708e-01\n",
            "  3.95559402e-01 2.45079182e-01 2.00000000e+00]\n",
            " [4.89373055e-01 4.34256261e-01 5.40785505e-01 4.56288262e-01\n",
            "  4.58630650e-01 4.25091546e-01 5.53357577e-01 4.84385190e-01\n",
            "  1.95563808e-01 5.25272547e-01 2.74265638e-01 4.10332585e-01\n",
            "  1.65741004e-01 4.52404775e-02 2.00000000e+00]\n",
            " [3.82557400e-01 4.16855250e-01 6.90420931e-01 3.22693541e-01\n",
            "  4.76260406e-01 3.45870084e-01 3.88325420e-01 5.18549667e-01\n",
            "  0.00000000e+00 4.19154439e-02 1.89366481e-01 1.39222406e-01\n",
            "  4.22050580e-01 2.47088911e-01 4.00000000e+00]\n",
            " [4.08289233e-01 4.23231360e-01 4.09951755e-01 4.49369523e-01\n",
            "  4.69769304e-01 4.98333771e-01 6.77241814e-01 4.39320735e-01\n",
            "  7.83610177e-01 7.68038870e-01 7.71986391e-01 6.33157467e-01\n",
            "  6.72044122e-01 5.53697730e-01 2.00000000e+00]\n",
            " [2.94007651e-01 6.32388433e-01 4.72061566e-01 3.37663691e-01\n",
            "  2.75090790e-01 2.35586495e-01 5.85868326e-01 7.21763694e-01\n",
            "  3.02604506e-02 6.02141700e-02 1.45938494e-01 9.49310914e-02\n",
            "  3.23157500e-01 1.43764663e-01 4.00000000e+00]\n",
            " [5.08916823e-01 3.33964024e-01 5.87023992e-01 4.52126990e-01\n",
            "  5.64095732e-01 5.12190073e-01 4.79428260e-01 3.69156210e-01\n",
            "  3.47568625e-01 4.53963112e-01 3.65479976e-01 3.49683193e-01\n",
            "  6.16549560e-01 5.07741340e-01 2.00000000e+00]\n",
            " [7.26431791e-01 8.66669220e-01 0.00000000e+00 8.81885929e-01\n",
            "  9.16059885e-02 3.71789368e-01 8.84149173e-01 7.38653635e-01\n",
            "  1.37853164e-01 5.25562619e-01 9.57728314e-02 2.99795370e-01\n",
            "  4.96951771e-02 4.45245653e-02 2.00000000e+00]\n",
            " [6.11551375e-01 6.90457512e-01 3.57275481e-01 6.21120104e-01\n",
            "  2.26590789e-01 2.95790323e-01 7.09453311e-01 6.84124217e-01\n",
            "  2.15386159e-01 5.63997196e-01 2.42133820e-01 4.29723133e-01\n",
            "  5.31031231e-01 5.48496584e-01 2.00000000e+00]\n",
            " [6.73983338e-01 2.85308144e-01 2.48811285e-01 7.15970492e-01\n",
            "  6.18853194e-01 7.97108960e-01 6.09387170e-01 2.31166324e-01\n",
            "  5.16535354e-01 6.63008533e-01 4.53848035e-01 4.22388501e-01\n",
            "  3.69578414e-01 2.81413884e-01 2.00000000e+00]\n",
            " [6.95648336e-01 5.01863554e-01 1.91333482e-01 7.59500577e-01\n",
            "  3.92589625e-01 5.86141079e-01 7.34246056e-01 4.64636007e-01\n",
            "  2.61454308e-01 4.85871063e-01 4.65144204e-01 5.17331920e-01\n",
            "  6.20837746e-01 4.84732956e-01 2.00000000e+00]\n",
            " [3.52403537e-01 3.81712867e-01 8.51469260e-01 2.45378940e-01\n",
            "  5.12700511e-01 2.96060623e-01 4.01800503e-01 5.21981661e-01\n",
            "  3.08375571e-01 2.32299548e-01 4.80776500e-01 4.12526811e-01\n",
            "  6.48336390e-01 4.51749241e-01 4.00000000e+00]\n",
            " [9.24797624e-01 4.67773368e-01 3.80843032e-01 8.26031277e-01\n",
            "  4.25413756e-01 5.17461570e-01 6.78059609e-01 4.07042713e-01\n",
            "  6.24479350e-01 7.11595639e-01 5.66787485e-01 5.44168043e-01\n",
            "  4.61399861e-01 2.83061344e-01 2.00000000e+00]\n",
            " [9.20469661e-01 6.03136110e-01 1.90613711e-01 9.17793325e-01\n",
            "  3.00363692e-01 4.96395447e-01 7.70861439e-01 5.34053932e-01\n",
            "  2.78867868e-01 5.41685803e-01 3.03595651e-01 3.81893938e-01\n",
            "  4.90668027e-01 4.26541368e-01 2.00000000e+00]\n",
            " [9.80281817e-01 3.92293212e-01 2.90067174e-01 9.07196055e-01\n",
            "  5.01609392e-01 6.57986972e-01 6.66882253e-01 3.51186846e-01\n",
            "  3.95393185e-01 6.55273272e-01 4.08907963e-01 4.67604349e-01\n",
            "  3.81429051e-01 3.27659226e-01 2.00000000e+00]\n",
            " [5.62894828e-01 4.32631009e-01 4.90132151e-01 5.29374839e-01\n",
            "  4.60265948e-01 4.64964437e-01 6.14453053e-01 4.27768733e-01\n",
            "  1.00000000e+00 1.00000000e+00 1.00000000e+00 8.55883731e-01\n",
            "  7.70181602e-01 6.48258522e-01 2.00000000e+00]\n",
            " [7.13655502e-01 6.66578858e-01 1.89173463e-01 7.73538002e-01\n",
            "  2.46273006e-01 4.25922722e-01 8.01394641e-01 5.61014309e-01\n",
            "  2.25322427e-01 5.68227417e-01 6.16841965e-02 1.60770198e-01\n",
            "  1.45307535e-01 8.42490685e-02 2.00000000e+00]\n",
            " [6.78853398e-01 2.96060463e-02 6.85377171e-01 5.31103582e-01\n",
            "  9.54773667e-01 8.79951215e-01 2.42301943e-01 4.51939639e-02\n",
            "  3.68645556e-01 4.45430153e-01 5.77527740e-01 5.26503291e-01\n",
            "  6.68976518e-01 5.30930858e-01 3.00000000e+00]\n",
            " [8.45837656e-01 4.08971734e-01 2.54564831e-01 8.34020511e-01\n",
            "  4.84336566e-01 6.57101543e-01 6.19455670e-01 3.97492812e-01\n",
            "  2.42836353e-01 5.38011555e-01 3.02928554e-01 5.31705333e-01\n",
            "  4.30626954e-01 3.50710737e-01 2.00000000e+00]\n",
            " [2.46193208e-01 8.28090724e-01 4.40934149e-01 3.12443618e-01\n",
            "  1.19712272e-01 7.86327451e-02 8.22889608e-01 8.67348333e-01\n",
            "  2.35710343e-01 1.85936329e-01 5.00100064e-01 3.59988659e-01\n",
            "  7.87586216e-01 5.74165919e-01 4.00000000e+00]\n",
            " [7.68489699e-01 4.71949810e-01 4.18386814e-01 7.03552825e-01\n",
            "  4.21341274e-01 4.83599926e-01 6.89822317e-01 4.23171285e-01\n",
            "  6.14693632e-01 7.09565133e-01 7.07922884e-01 6.48664974e-01\n",
            "  5.35067552e-01 3.66115788e-01 2.00000000e+00]\n",
            " [5.12476618e-01 3.81820266e-01 7.42607310e-01 3.96061861e-01\n",
            "  5.12587402e-01 3.76392619e-01 4.85441572e-01 4.46125211e-01\n",
            "  5.88447835e-01 6.58875003e-01 5.36812613e-01 4.53724021e-01\n",
            "  5.37082483e-01 4.80122654e-01 2.00000000e+00]\n",
            " [4.37661513e-01 9.15537927e-01 2.43531633e-01 5.43177078e-01\n",
            "  5.70671268e-02 1.53594676e-01 8.79438827e-01 8.24221579e-01\n",
            "  3.75871933e-01 6.15823443e-01 8.01294167e-01 7.44076823e-01\n",
            "  7.00298365e-01 5.43105679e-01 1.00000000e+00]\n",
            " [8.41192576e-01 9.43117962e-02 7.10377656e-01 6.27707829e-01\n",
            "  8.61029668e-01 7.80620361e-01 2.14793256e-01 1.32072450e-01\n",
            "  5.67872735e-01 6.20126181e-01 5.38547064e-01 5.15988265e-01\n",
            "  5.29261709e-01 4.51141147e-01 3.00000000e+00]\n",
            " [8.84240531e-01 1.83432584e-01 6.85833959e-01 6.65207407e-01\n",
            "  7.42168827e-01 6.74024052e-01 2.10009294e-01 2.57885895e-01\n",
            "  4.98268681e-01 5.98878387e-01 5.64163572e-01 5.18059219e-01\n",
            "  6.93491514e-01 5.96557583e-01 3.00000000e+00]\n",
            " [7.95385938e-01 4.02675405e-01 2.09552352e-01 8.21408420e-01\n",
            "  4.90827248e-01 6.90891119e-01 7.09876668e-01 3.58765442e-01\n",
            "  5.05896522e-01 7.38113080e-01 5.33121345e-01 5.46978625e-01\n",
            "  6.58927695e-01 5.89087945e-01 2.00000000e+00]\n",
            " [7.77422597e-01 5.16032925e-01 2.55584528e-01 7.86032240e-01\n",
            "  3.79220726e-01 5.36549876e-01 6.84002828e-01 4.87815851e-01\n",
            "  1.70070758e-01 4.76637095e-01 3.10533455e-01 4.95981361e-01\n",
            "  3.34762729e-01 3.60069349e-01 2.00000000e+00]\n",
            " [4.25395764e-01 7.82813493e-01 4.23179288e-01 4.56756276e-01\n",
            "  1.53694717e-01 1.57728582e-01 7.30470215e-01 7.79432166e-01\n",
            "  4.64344859e-01 6.46812831e-01 7.64826221e-01 7.85187742e-01\n",
            "  1.00000000e+00 1.00000000e+00 1.00000000e+00]\n",
            " [8.32412498e-01 5.51282437e-01 2.99372463e-01 8.02833129e-01\n",
            "  3.46634692e-01 4.76869134e-01 6.15832778e-01 5.21937512e-01\n",
            "  1.68113615e-01 4.31627547e-01 2.06733228e-01 2.90895195e-01\n",
            "  1.80626954e-01 1.81695073e-01 2.00000000e+00]\n",
            " [8.07487663e-01 8.63905290e-01 2.34840803e-01 8.17246439e-01\n",
            "  9.35944982e-02 2.34878170e-01 8.27455523e-01 7.35093702e-01\n",
            "  3.08124655e-01 5.87468878e-01 3.45622735e-01 4.51517468e-01\n",
            "  3.46968562e-01 2.92514836e-01 2.00000000e+00]\n",
            " [5.05400510e-01 9.99082532e-01 1.95991949e-01 6.16622976e-01\n",
            "  6.02869349e-04 1.27741683e-01 1.00000000e+00 8.63578545e-01\n",
            "  1.44075877e-01 1.83567406e-01 3.59387161e-01 3.28073765e-01\n",
            "  5.29261709e-01 3.38501415e-01 1.00000000e+00]\n",
            " [7.13636912e-01 3.90558710e-03 7.11306031e-01 5.44181593e-01\n",
            "  9.93945037e-01 9.07990124e-01 2.76378577e-01 2.95722936e-02\n",
            "  6.82541276e-01 7.06881965e-01 7.00985079e-01 6.14753088e-01\n",
            "  5.97879156e-01 3.72308860e-01 3.00000000e+00]\n",
            " [5.17884492e-01 6.98523219e-01 4.51348915e-01 5.13135420e-01\n",
            "  2.20022795e-01 2.26229649e-01 6.87784132e-01 6.76545950e-01\n",
            "  7.27756311e-01 7.52326621e-01 7.48971559e-01 6.70952393e-01\n",
            "  5.59537341e-01 4.61763387e-01 2.00000000e+00]\n",
            " [3.64053115e-01 4.65998511e-01 6.71543313e-01 3.15986873e-01\n",
            "  4.27148834e-01 3.02140179e-01 4.41496679e-01 5.71094250e-01\n",
            "  5.24865760e-01 6.46667795e-01 6.66451713e-01 6.85806563e-01\n",
            "  6.11247449e-01 4.23906293e-01 2.00000000e+00]\n",
            " [4.99119260e-01 4.75632011e-01 5.42414803e-01 4.62650293e-01\n",
            "  4.17762721e-01 3.82821689e-01 5.59649928e-01 5.05640892e-01\n",
            "  6.26787775e-01 6.53387802e-01 7.80236152e-01 6.70952393e-01\n",
            "  6.41774948e-01 5.81734750e-01 2.00000000e+00]\n",
            " [5.07370061e-01 5.29263897e-01 5.46371223e-01 4.66996737e-01\n",
            "  3.66878503e-01 3.28573955e-01 5.32316081e-01 5.46708284e-01\n",
            "  3.46866061e-01 5.12388503e-01 7.62869405e-01 8.11703360e-01\n",
            "  7.63872026e-01 6.49793852e-01 1.00000000e+00]\n",
            " [7.63828311e-01 4.62367292e-01 2.66726697e-01 7.71098013e-01\n",
            "  4.30706875e-01 5.85440174e-01 6.99509926e-01 4.28044907e-01\n",
            "  7.75831786e-02 4.47267277e-01 0.00000000e+00 1.35327038e-01\n",
            "  0.00000000e+00 0.00000000e+00 2.00000000e+00]\n",
            " [1.00000000e+00 8.66258480e-01 1.38092788e-01 1.00000000e+00\n",
            "  9.19012516e-02 2.96618409e-01 8.18060621e-01 7.36801235e-01\n",
            "  1.48993827e-01 4.10138026e-01 2.52562763e-01 4.38376766e-01\n",
            "  2.42682958e-01 1.85330700e-01 2.00000000e+00]\n",
            " [1.23497902e-01 6.95863801e-01 6.95744962e-01 1.25070980e-01\n",
            "  2.22183966e-01 2.69704451e-02 5.30275254e-01 1.00000000e+00\n",
            "  1.27415065e-01 1.84655177e-01 3.27477708e-01 3.66435739e-01\n",
            "  5.87791584e-01 5.17660606e-01 4.00000000e+00]\n",
            " [5.43426014e-01 6.29404451e-01 6.44823991e-01 4.54125337e-01\n",
            "  2.77642347e-01 1.89313314e-01 5.07922796e-01 6.96584803e-01\n",
            "  1.49244743e-01 9.11552128e-02 1.60058704e-01 5.60883607e-03\n",
            "  3.37029526e-01 2.00804754e-01 4.00000000e+00]\n",
            " [3.94794785e-01 7.79720543e-01 3.35120079e-01 4.70383687e-01\n",
            "  1.56056715e-01 2.03035775e-01 7.31952876e-01 7.50939393e-01\n",
            "  2.10869674e-01 2.21349320e-01 4.72526739e-01 2.81847094e-01\n",
            "  3.89501692e-01 1.98657018e-01 1.00000000e+00]\n",
            " [3.36529179e-01 3.06871962e-01 8.46945204e-01 2.35483019e-01\n",
            "  5.94276467e-01 3.76199462e-01 3.20175488e-01 4.68469801e-01\n",
            "  6.74712701e-01 7.18944137e-01 7.14660559e-01 6.58649935e-01\n",
            "  6.80375087e-01 5.00280327e-01 2.00000000e+00]\n",
            " [8.17391343e-01 3.56904303e-01 3.17341879e-01 7.83887972e-01\n",
            "  5.39124623e-01 6.75690950e-01 6.83371508e-01 2.96795393e-01\n",
            "  3.29803784e-01 5.42821920e-01 2.81870539e-01 3.06636917e-01\n",
            "  1.75835034e-01 1.58419300e-01 2.00000000e+00]\n",
            " [6.25034476e-01 4.48045549e-01 5.21349950e-01 5.60201066e-01\n",
            "  4.44848559e-01 4.38028592e-01 5.89591372e-01 4.18234602e-01\n",
            "  7.11597330e-01 7.30788755e-01 7.88708279e-01 7.26523015e-01\n",
            "  6.71036656e-01 4.94716913e-01 2.00000000e+00]\n",
            " [5.40222141e-01 5.01610875e-01 4.75201326e-01 5.19350317e-01\n",
            "  3.92829468e-01 3.99223927e-01 5.83235006e-01 4.87899711e-01\n",
            "  2.72494605e-01 1.90335759e-01 3.97189300e-01 2.48268041e-01\n",
            "  3.92278680e-01 2.85420404e-01 4.00000000e+00]\n",
            " [4.12578430e-01 5.88356375e-01 5.95016956e-01 3.79661908e-01\n",
            "  3.13356762e-01 2.33149673e-01 6.18727030e-01 6.32864376e-01\n",
            "  4.46931299e-01 6.64821485e-01 7.68939984e-01 7.92534701e-01\n",
            "  8.78910387e-01 7.72128588e-01 1.00000000e+00]\n",
            " [4.59113679e-01 8.02129692e-01 2.33194556e-01 5.64248971e-01\n",
            "  1.39062203e-01 2.52603568e-01 8.59913912e-01 7.03091938e-01\n",
            "  2.54729764e-01 2.37254949e-01 5.11618599e-01 4.05697591e-01\n",
            "  4.81833329e-01 2.82392872e-01 1.00000000e+00]\n",
            " [4.77802008e-01 4.40124577e-01 3.88281674e-01 5.10249514e-01\n",
            "  4.52745257e-01 5.04433573e-01 6.26667360e-01 4.32732598e-01\n",
            "  5.95072013e-01 6.05815949e-01 6.73189389e-01 5.37326496e-01\n",
            "  6.35717238e-01 4.85875828e-01 3.00000000e+00]\n",
            " [7.30054669e-01 4.01237872e-01 4.48914119e-01 6.63672930e-01\n",
            "  4.92314235e-01 5.39121094e-01 6.55383446e-01 3.86974427e-01\n",
            "  4.39353641e-01 6.33856269e-01 5.58092993e-01 5.45992456e-01\n",
            "  4.58881197e-01 3.96908639e-01 2.00000000e+00]\n",
            " [2.71523304e-01 6.90572499e-01 5.01848458e-01 3.08950898e-01\n",
            "  2.26496873e-01 1.64293136e-01 6.23939323e-01 7.63881453e-01\n",
            "  3.37030160e-01 5.61362373e-01 7.65048587e-01 8.94085452e-01\n",
            "  9.22806179e-01 7.68561965e-01 1.00000000e+00]\n",
            " [5.09634707e-01 2.95948841e-01 4.72135136e-01 4.98577426e-01\n",
            "  6.06663120e-01 6.23195747e-01 5.31312975e-01 3.34838920e-01\n",
            "  7.95503588e-01 8.61587179e-01 7.66560672e-01 6.54495698e-01\n",
            "  7.45711813e-01 5.76813932e-01 2.00000000e+00]\n",
            " [7.00240429e-01 5.78762175e-01 1.42658536e-01 7.87209743e-01\n",
            "  3.21873550e-01 5.38949823e-01 5.93659665e-01 5.35927436e-01\n",
            "  2.01535605e-01 5.45408398e-01 3.02061328e-01 4.34666305e-01\n",
            "  2.47726744e-01 2.15739718e-01 2.00000000e+00]\n",
            " [8.10878908e-01 7.48783992e-01 1.85830673e-01 8.44287265e-01\n",
            "  1.79977058e-01 3.60245347e-01 7.86540327e-01 6.34712262e-01\n",
            "  1.15320921e-01 4.38661800e-01 9.44608748e-02 2.47405143e-01\n",
            "  1.18564491e-01 1.10410054e-01 2.00000000e+00]\n",
            " [4.94139982e-01 6.51526208e-01 4.32696473e-01 5.03614358e-01\n",
            "  2.58866481e-01 2.74503405e-01 6.31533042e-01 6.65699438e-01\n",
            "  4.21839715e-01 5.95687592e-01 8.29089858e-01 7.58006459e-01\n",
            "  7.99443311e-01 5.95086945e-01 1.00000000e+00]\n",
            " [3.33111799e-01 5.08913577e-01 7.01974091e-01 2.82457327e-01\n",
            "  3.85918135e-01 2.38858072e-01 4.89887193e-01 6.22814363e-01\n",
            "  3.95493551e-01 6.28127342e-01 7.58088546e-01 7.41882597e-01\n",
            "  8.31985740e-01 6.60687793e-01 1.00000000e+00]\n",
            " [6.75277423e-01 7.33825617e-01 2.01065545e-01 7.39989090e-01\n",
            "  1.91739214e-01 3.54824777e-01 7.89369442e-01 6.47426301e-01\n",
            "  2.19902645e-01 5.11059006e-01 2.54519579e-01 3.79822983e-01\n",
            "  2.76743045e-01 2.30359854e-01 2.00000000e+00]\n",
            " [7.87124956e-01 5.29208251e-01 1.89353685e-01 8.25772040e-01\n",
            "  3.66930127e-01 5.65477882e-01 7.20549068e-01 4.33384499e-01\n",
            "  3.76975962e-01 6.41083903e-01 4.03904739e-01 5.49493356e-01\n",
            "  3.58476919e-01 3.83271805e-01 2.00000000e+00]\n",
            " [2.49026158e-01 5.85553590e-01 4.83134777e-01 2.98554362e-01\n",
            "  3.15838042e-01 2.62101519e-01 7.54006149e-01 6.87686219e-01\n",
            "  2.79369699e-01 5.70813894e-01 3.05330102e-01 3.94874387e-01\n",
            "  5.30772907e-01 3.90836323e-01 2.00000000e+00]\n",
            " [9.55427846e-01 2.85462788e-01 3.47486429e-01 8.62338513e-01\n",
            "  6.18675150e-01 7.48875313e-01 5.05633085e-01 2.79302679e-01\n",
            "  4.82109700e-01 7.31949044e-01 5.73080430e-01 6.73787629e-01\n",
            "  8.37533259e-01 6.76097157e-01 2.00000000e+00]\n",
            " [5.13372516e-01 4.08013705e-01 4.24765364e-01 5.20966995e-01\n",
            "  4.85321840e-01 5.22891515e-01 6.33333315e-01 4.29935853e-01\n",
            "  5.58187384e-01 6.30278711e-01 6.77747882e-01 6.38753975e-01\n",
            "  9.37181938e-01 7.21052995e-01 2.00000000e+00]]\n"
          ],
          "name": "stdout"
        }
      ]
    },
    {
      "cell_type": "code",
      "metadata": {
        "colab": {
          "base_uri": "https://localhost:8080/"
        },
        "id": "Xgju8jer-r05",
        "outputId": "1a703bf8-3c33-43bd-8001-9237e84dff61"
      },
      "source": [
        "data_test_np = data_test.to_numpy()\n",
        "print(data_test_np)"
      ],
      "execution_count": null,
      "outputs": [
        {
          "output_type": "stream",
          "text": [
            "[[0.49528795 0.9315276  0.23933762 0.588886   0.04601436 0.15199422\n",
            "  0.90421113 0.82358124 0.2578913  0.45536513 0.5226924  0.56678829\n",
            "  0.77446979 0.6225245  1.        ]\n",
            " [0.3076581  0.58988684 0.74023729 0.25041757 0.31200421 0.14036939\n",
            "  0.50113262 0.73545364 0.34134591 0.5961227  0.85212693 1.\n",
            "  0.87588153 0.75165609 1.        ]\n",
            " [0.77518571 0.32677352 0.24445522 0.7899128  0.57203199 0.75656036\n",
            "  0.55266167 0.32379712 0.30998143 0.62839324 0.50336884 0.70741599\n",
            "  0.32189817 0.28351849 2.        ]\n",
            " [0.76377458 0.53547433 0.15619005 0.82607554 0.36113157 0.57898231\n",
            "  0.78132087 0.43050325 0.35740453 0.56491576 0.42996598 0.5182318\n",
            "  0.53329803 0.48659174 2.        ]\n",
            " [0.89998305 0.60588183 0.15187672 0.92405321 0.29796664 0.51771085\n",
            "  0.82042188 0.4775691  0.40773824 0.62442892 0.3743746  0.42519908\n",
            "  0.29086694 0.20807169 2.        ]\n",
            " [0.54524617 0.5219297  0.34447341 0.57877647 0.37370335 0.45473323\n",
            "  0.70399819 0.48413276 0.79244241 0.84737364 0.8662249  0.77722443\n",
            "  0.76790835 0.64305306 2.        ]\n",
            " [0.7594958  0.39484158 0.26260189 0.77005701 0.49895363 0.66295692\n",
            "  0.63345575 0.32902105 0.50037637 0.74418042 0.59349358 0.6007988\n",
            "  0.53733435 0.38938294 2.        ]\n",
            " [0.38932613 0.51561195 0.46379851 0.41334818 0.37961565 0.36864429\n",
            "  0.66634901 0.54958559 0.52366136 0.62097223 0.63258544 0.53297503\n",
            "  0.69803157 0.67711496 2.        ]\n",
            " [0.77715452 0.02043946 0.52808389 0.66124895 0.96861263 1.\n",
            "  0.25021066 0.         0.88543183 0.8228867  0.74939405 0.53811543\n",
            "  0.67532484 0.48175286 3.        ]\n",
            " [0.44123314 0.40170783 0.5517196  0.41713623 0.49182791 0.44629672\n",
            "  0.52768655 0.43361065 0.07597732 0.         0.14507127 0.\n",
            "  0.40009945 0.15377018 4.        ]\n",
            " [0.44037707 0.59125043 0.56311941 0.41209885 0.31080051 0.25149049\n",
            "  0.62629198 0.61546402 0.49229688 0.68592424 0.87100576 0.88042701\n",
            "  0.94803157 0.97066485 1.        ]\n",
            " [0.74170254 0.45923507 0.34122266 0.72034763 0.43378487 0.54117675\n",
            "  0.65323198 0.43802007 0.57670497 0.82370857 0.40088057 0.38181997\n",
            "  0.43995893 0.4041497  2.        ]\n",
            " [0.77362779 0.38004113 0.31554615 0.75455884 0.51446259 0.64721498\n",
            "  0.58737414 0.35043663 0.28263161 0.63238174 0.24691468 0.40594413\n",
            "  0.27699491 0.34042058 2.        ]\n",
            " [0.62743469 0.76794123 0.393168   0.61656655 0.16510094 0.21112057\n",
            "  0.78222847 0.67543445 0.40593165 0.62380043 0.52160281 0.6085772\n",
            "  0.47628581 0.3976073  2.        ]\n",
            " [0.84894874 0.7024758  0.24476701 0.84104138 0.21681873 0.36749056\n",
            "  0.87191057 0.5957075  0.6547398  0.75268921 0.69511463 0.57608294\n",
            "  0.52749864 0.40595242 2.        ]\n",
            " [0.82389436 0.59483736 0.18116072 0.85580591 0.30764042 0.50654097\n",
            "  0.72783415 0.51992543 0.01239524 0.37711813 0.14180249 0.4042923\n",
            "  0.13168738 0.15443866 2.        ]\n",
            " [0.95639463 0.30881399 0.1437069  0.96724091 0.59208754 0.85618734\n",
            "  0.70428726 0.21961073 0.39659758 0.65976939 0.51553223 0.58974138\n",
            "  0.31760998 0.27519925 2.        ]\n",
            " [0.40608506 0.50670517 0.55611507 0.38970938 0.38800375 0.32991636\n",
            "  0.58037768 0.53655779 0.4278617  0.54891344 0.52856285 0.50147925\n",
            "  0.61099558 0.46967292 2.        ]\n",
            " [0.75832833 0.         1.         0.46681274 1.         0.75558471\n",
            "  0.         0.07679475 0.64630903 0.71604341 0.74983878 0.66287813\n",
            "  0.63622743 0.43456735 3.        ]\n",
            " [0.46061929 0.75963539 0.29004831 0.53990493 0.17152504 0.25555026\n",
            "  0.75323674 0.71169237 0.38615948 0.58273103 0.73138245 0.66488745\n",
            "  0.60772132 0.36928564 1.        ]\n",
            " [0.35963768 0.47978945 0.82489271 0.25944245 0.41373574 0.21173062\n",
            "  0.40206566 0.62021573 0.42931701 0.664894   0.74310111 0.87377037\n",
            "  0.93364935 0.81843    1.        ]\n",
            " [0.64324885 0.56957546 0.53485707 0.56725792 0.33009031 0.31152731\n",
            "  0.57273456 0.55997255 0.34576203 0.60095724 0.4162905  0.49556224\n",
            "  0.49823048 0.34211548 2.        ]\n",
            " [0.49995828 0.45048236 0.28467447 0.57185854 0.44243006 0.55949194\n",
            "  0.60559039 0.42293768 0.54544086 0.72941091 0.71032443 0.72546288\n",
            "  0.69298778 0.48422837 2.        ]\n",
            " [0.78029404 0.53071206 0.28888489 0.77190529 0.36553579 0.50109376\n",
            "  0.71183286 0.47165003 0.31023235 0.57944354 0.44344133 0.57825251\n",
            "  0.38193924 0.32630503 2.        ]\n",
            " [0.58756554 0.47376052 0.48856501 0.54751691 0.41958013 0.42569566\n",
            "  0.55909172 0.45888552 0.8121644  0.68123474 0.93767094 0.7786667\n",
            "  0.88924983 0.76670318 3.        ]\n",
            " [0.68255227 0.44480552 0.36740129 0.66699251 0.44807213 0.53612438\n",
            "  0.58049713 0.45578913 0.21904953 0.48906186 0.40130306 0.50171347\n",
            "  0.35746945 0.24090878 2.        ]\n",
            " [0.         0.63413178 0.77831706 0.         0.27360283 0.\n",
            "  0.68701348 0.95519056 0.13574547 0.1015253  0.30250606 0.19662977\n",
            "  0.48713544 0.4152334  4.        ]\n",
            " [0.86792783 0.49905591 0.20546562 0.87399701 0.3952575  0.59090013\n",
            "  0.628144   0.44180321 0.38445325 0.42925862 0.30206133 0.27568354\n",
            "  0.33072641 0.2520011  2.        ]]\n"
          ],
          "name": "stdout"
        }
      ]
    },
    {
      "cell_type": "code",
      "metadata": {
        "id": "re1yzm3V5sS6"
      },
      "source": [
        "import numpy as np \n",
        " \n",
        "class Knn:\n",
        "  def __init__(self, k):\n",
        "    self.__k = k\n",
        " \n",
        "  def prediksi_data(self, data_train, data_test):\n",
        "    jumlah_data_train = np.size(data_train,0)\n",
        "    jumlah_kolom_train = np.size(data_train,1)\n",
        "    index_kelas_data = None\n",
        "    index_kelas_data = jumlah_kolom_train - 1\n",
        "    \n",
        "    kelas_dan_jarak = np.zeros((jumlah_data_train, 2))\n",
        " \n",
        "    neighbors = None\n",
        "\n",
        "    for baris in range(0, jumlah_data_train):\n",
        "      kelas_dan_jarak[baris,0] = data_train[baris,index_kelas_data]\n",
        "      temp_data_train = np.copy(data_train[baris,:])\n",
        "      temp_data_test = np.copy(data_test)\n",
        "      temp_data_train= np.delete(temp_data_train,[0,index_kelas_data])\n",
        "      temp_data_test = np.delete(temp_data_test,[0,index_kelas_data])\n",
        "      jarak = np.linalg.norm(temp_data_test  - temp_data_train)\n",
        "      kelas_dan_jarak[baris,1] = jarak   \n",
        " \n",
        "    kelas_dan_jarak = kelas_dan_jarak[kelas_dan_jarak[:,1].argsort()]\n",
        "    k = self.__k\n",
        "    neighbors = kelas_dan_jarak[:k,:]\n",
        "    neighbors = neighbors [:,0]\n",
        "    neighborsint = neighbors.astype(int)\n",
        "    prediksi = np.bincount(neighborsint).argmax()\n",
        " \n",
        "    return prediksi"
      ],
      "execution_count": null,
      "outputs": []
    },
    {
      "cell_type": "code",
      "metadata": {
        "id": "qQZLwdM66Afl"
      },
      "source": [
        "import numpy as np \n",
        "\n",
        "class CondensedKnn:\n",
        "  def __init__(self, data_train):\n",
        "    self.__data_train = data_train\n",
        " \n",
        "  def get_trainingset(self):\n",
        "         \n",
        "    condensed_data_train = np.copy(self.__data_train)\n",
        "    jumlah_data_train = np.size(condensed_data_train,0)\n",
        "    jumlah_kolom_train = np.size(condensed_data_train,1)\n",
        " \n",
        "    print(\"\\njumlah data sebelum Kondensasi : \" + str(jumlah_data_train) + \" data latih\\n\")\n",
        "\n",
        "    index_kelas_data = jumlah_kolom_train - 1\n",
        "    temporary_hasil = np.copy(condensed_data_train[0,:])\n",
        "    baris_baru = np.copy(condensed_data_train[0,:])\n",
        "    temporary_hasil = np.vstack([temporary_hasil,baris_baru])\n",
        " \n",
        "    baris = 1\n",
        "    while baris < jumlah_data_train:\n",
        "      kelas_sebenarnya= condensed_data_train[baris,index_kelas_data]\n",
        "      knn1 = Knn(1)\n",
        "      this_instance = condensed_data_train[baris,:]\n",
        "      prediction = knn1.prediksi_data(temporary_hasil,this_instance)\n",
        "\n",
        "      if kelas_sebenarnya!= prediction:\n",
        "        baris_baru = np.copy(this_instance)\n",
        "        temporary_hasil = np.vstack([temporary_hasil,baris_baru])\n",
        "        condensed_data_train = np.delete(condensed_data_train, baris, 0)\n",
        "        jumlah_data_train -= 1\n",
        "        \n",
        "      baris += 1\n",
        " \n",
        "    no_more_transfers_to_temporary_hasil = False\n",
        "    no_more_instances_left = None\n",
        "    jumlah_data_train = np.size(condensed_data_train,0)\n",
        "\n",
        "    if jumlah_data_train > 0:\n",
        "      no_more_instances_left = False\n",
        "    else:\n",
        "      no_more_instances_left = True\n",
        " \n",
        "    while not(no_more_transfers_to_temporary_hasil) and not(no_more_instances_left):\n",
        "      transfers_made = 0\n",
        "      baris = 0\n",
        "      while baris < jumlah_data_train:\n",
        "        kelas_sebenarnya= condensed_data_train[baris,index_kelas_data]\n",
        "        knn1 = Knn(1) \n",
        "        this_instance = condensed_data_train[baris,:]\n",
        "\n",
        "        prediction = knn1.prediksi_data(temporary_hasil,this_instance)\n",
        "\n",
        "        if kelas_sebenarnya!= prediction:\n",
        "          baris_baru = np.copy(this_instance)\n",
        "          temporary_hasil = np.vstack([temporary_hasil,baris_baru])\n",
        " \n",
        "          condensed_data_train = np.delete(condensed_data_train, baris, 0)\n",
        "          jumlah_data_train -= 1\n",
        "          transfers_made += 1\n",
        "             \n",
        "        baris += 1\n",
        "         \n",
        "      jumlah_data_train = np.size(condensed_data_train,0)\n",
        " \n",
        "      if jumlah_data_train > 0:\n",
        "        no_more_instances_left = False\n",
        "      else:\n",
        "        no_more_instances_left = True\n",
        " \n",
        "      if transfers_made > 0:\n",
        "        no_more_transfers_to_temporary_hasil = False\n",
        "      else: \n",
        "        no_more_transfers_to_temporary_hasil = True\n",
        "\n",
        "    temporary_hasil = np.delete(temporary_hasil,0,0)\n",
        "\n",
        "    print(\"Setelah proses Kondensasi : \" + str(np.size(temporary_hasil,0)) + \" data latih\\n\")\n",
        "    return temporary_hasil"
      ],
      "execution_count": null,
      "outputs": []
    },
    {
      "cell_type": "code",
      "metadata": {
        "colab": {
          "base_uri": "https://localhost:8080/"
        },
        "id": "3GGHPOeNDzGg",
        "outputId": "3ba3c43d-ee02-4d5e-99af-6b51823ccbf4"
      },
      "source": [
        "np_data_set = data.to_numpy(copy=True)\n",
        "cknn = CondensedKnn(data_train_np)\n",
        "training_dataset = cknn.get_trainingset()"
      ],
      "execution_count": null,
      "outputs": [
        {
          "output_type": "stream",
          "text": [
            "\n",
            "jumlah data sebelum Kondensasi : 63 data latih\n",
            "\n",
            "Setelah proses Kondensasi : 20 data latih\n",
            "\n"
          ],
          "name": "stdout"
        }
      ]
    },
    {
      "cell_type": "code",
      "metadata": {
        "id": "mtJ6YgUfE6pY"
      },
      "source": [
        "knn = Knn(3)\n",
        "hasil_prediksi = []\n",
        "for i in range(data_test.shape[0]):\n",
        "  label_prediksi = knn.prediksi_data(training_dataset, data_test_np[i])\n",
        "  hasil_prediksi.append(label_prediksi)"
      ],
      "execution_count": null,
      "outputs": []
    },
    {
      "cell_type": "code",
      "metadata": {
        "id": "SI4UthVTOmou"
      },
      "source": [
        "def cek_hasil(kelas_uji,label_uji):\n",
        "  cek = sum(kelas_uji == label_uji)\n",
        "  jumlah_kls_uji = kelas_uji.shape[0]\n",
        "  print('Jumlah label data uji yang dibandingkan:',jumlah_kls_uji)\n",
        "  print('Jumlah label hasil klasifikasi yang sama:',cek)\n",
        "  print('Akurasi: ', cek/jumlah_kls_uji)"
      ],
      "execution_count": null,
      "outputs": []
    },
    {
      "cell_type": "code",
      "metadata": {
        "colab": {
          "base_uri": "https://localhost:8080/"
        },
        "id": "hhvze3G4Vlqh",
        "outputId": "21d17203-2ecf-4535-9a70-40fdcfddbf37"
      },
      "source": [
        "print(hasil_prediksi)"
      ],
      "execution_count": null,
      "outputs": [
        {
          "output_type": "stream",
          "text": [
            "[1, 1, 2, 2, 2, 2, 2, 2, 3, 4, 1, 2, 2, 2, 2, 2, 2, 2, 3, 1, 2, 2, 2, 2, 2, 2, 4, 2]\n"
          ],
          "name": "stdout"
        }
      ]
    },
    {
      "cell_type": "code",
      "metadata": {
        "colab": {
          "base_uri": "https://localhost:8080/"
        },
        "id": "2eKLCqzfPCJp",
        "outputId": "47a5606c-0dd9-4a57-aafa-cc54d7239bf5"
      },
      "source": [
        "cek_hasil(label_uji, hasil_prediksi)"
      ],
      "execution_count": null,
      "outputs": [
        {
          "output_type": "stream",
          "text": [
            "Jumlah label data uji yang dibandingkan: 28\n",
            "Jumlah label hasil klasifikasi yang sama: 26\n",
            "Akurasi:  0.9285714285714286\n"
          ],
          "name": "stdout"
        }
      ]
    }
  ]
}